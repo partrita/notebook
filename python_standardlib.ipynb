{
 "cells": [
  {
   "cell_type": "raw",
   "metadata": {},
   "source": [
    "---\n",
    "title: \"Untitled\"\n",
    "format: html\n",
    "---"
   ]
  },
  {
   "cell_type": "code",
   "execution_count": 6,
   "metadata": {},
   "outputs": [],
   "source": [
    "# 비동기 라이브러리\n",
    "import asyncio\n",
    "import time\n",
    "\n",
    "\n",
    "async def say_after(delay, what):\n",
    "    await asyncio.sleep(delay)\n",
    "    print(what)\n",
    "\n",
    "async def main():\n",
    "    print(f\"start add {time.strftime('%X')}\")\n",
    "    await asyncio.gather(\n",
    "        say_after(1, \"hello\"),\n",
    "        say_after(2, \"world\"),\n",
    "    )\n",
    "    print(f\"finished at {time.strftime('%X')}\")"
   ]
  },
  {
   "cell_type": "code",
   "execution_count": 7,
   "metadata": {},
   "outputs": [
    {
     "name": "stdout",
     "output_type": "stream",
     "text": [
      "start add 08:02:18\n",
      "hello\n",
      "world\n",
      "finished at 08:02:20\n"
     ]
    }
   ],
   "source": [
    "await main()"
   ]
  },
  {
   "cell_type": "code",
   "execution_count": 14,
   "metadata": {},
   "outputs": [
    {
     "name": "stdout",
     "output_type": "stream",
     "text": [
      "Coffee\n",
      "29.900000000000002\n"
     ]
    }
   ],
   "source": [
    "# dataclasses: 데이터 클래스 라이브러리\n",
    "# 데이터를 저장하기 위한 클래스를 간편하게 작성할 수 있게 해준다.\n",
    "from dataclasses import asdict, astuple, dataclass\n",
    "\n",
    "\n",
    "@dataclass\n",
    "class Product:\n",
    "    name: str\n",
    "    price: float\n",
    "    quantity: int = 0\n",
    "\n",
    "    def total_cost(self) -> float:\n",
    "        return self.price * self.quantity\n",
    "\n",
    "product = Product(name=\"Coffee\", price=2.99, quantity=10)\n",
    "\n",
    "print(product.name)\n",
    "print(product.total_cost())"
   ]
  },
  {
   "cell_type": "code",
   "execution_count": 15,
   "metadata": {},
   "outputs": [
    {
     "name": "stdout",
     "output_type": "stream",
     "text": [
      "{'name': 'Coffee', 'price': 2.99, 'quantity': 10}\n"
     ]
    }
   ],
   "source": [
    "print(asdict(product))"
   ]
  },
  {
   "cell_type": "code",
   "execution_count": 16,
   "metadata": {},
   "outputs": [
    {
     "name": "stdout",
     "output_type": "stream",
     "text": [
      "('Coffee', 2.99, 10)\n"
     ]
    }
   ],
   "source": [
    "print(astuple(product))"
   ]
  },
  {
   "cell_type": "code",
   "execution_count": 17,
   "metadata": {},
   "outputs": [
    {
     "name": "stdout",
     "output_type": "stream",
     "text": [
      "['LAIDD_Dimension_Reduction.ipynb', 'Untitled-1.ipynb', 'get_started_with_polars.ipynb', '240320_pytorch_m1chip.ipynb']\n"
     ]
    }
   ],
   "source": [
    "# glob: 파일 시스템에서 패턴 매칭으로 목록을 찾아주는 라이브러리\n",
    "import glob\n",
    "\n",
    "ipynb_list = glob.glob(\"*.ipynb\")\n",
    "print(ipynb_list)"
   ]
  },
  {
   "cell_type": "code",
   "execution_count": 19,
   "metadata": {},
   "outputs": [
    {
     "name": "stdout",
     "output_type": "stream",
     "text": [
      "/Users/kt/Downloads/dataScience/notebook\n"
     ]
    }
   ],
   "source": [
    "# os 운영체제와 상호 작용하는 라이브러리\n",
    "import os\n",
    "\n",
    "print(os.getcwd())"
   ]
  },
  {
   "cell_type": "code",
   "execution_count": 21,
   "metadata": {},
   "outputs": [
    {
     "name": "stdout",
     "output_type": "stream",
     "text": [
      "script.py not exist\n"
     ]
    }
   ],
   "source": [
    "# 객체지향 파일 시스템 경로\n",
    "from pathlib import Path\n",
    "\n",
    "_path = Path(os.getcwd())\n",
    "# print(_path)\n",
    "new_path = _path / \"script.py\"\n",
    "\n",
    "if new_path.exists():\n",
    "    print(\"script.py is exist\")\n",
    "else:\n",
    "    print(\"script.py not exist\")"
   ]
  },
  {
   "cell_type": "code",
   "execution_count": 23,
   "metadata": {},
   "outputs": [
    {
     "name": "stdout",
     "output_type": "stream",
     "text": [
      "{'database': {'server': '192.168.0.1', 'ports': [8001, 8002], 'enabled': True}}\n"
     ]
    }
   ],
   "source": [
    "# tomllib 표준 TOML 제어 도구\n",
    "import tomllib\n",
    "\n",
    "toml_str = \"\"\"\n",
    "[database]\n",
    "server = \"192.168.0.1\"\n",
    "ports = [8001, 8002]\n",
    "enabled = true\n",
    "\"\"\"\n",
    "\n",
    "data = tomllib.loads(toml_str)\n",
    "print(data)"
   ]
  },
  {
   "cell_type": "code",
   "execution_count": 24,
   "metadata": {},
   "outputs": [
    {
     "name": "stdout",
     "output_type": "stream",
     "text": [
      "{'project': {'name': 'notebook', 'version': '0.1.0', 'description': 'Add a short description here', 'authors': ['joconan <partrita@gmail.com>'], 'channels': ['conda-forge'], 'platforms': ['osx-arm64']}, 'tasks': {'start': 'jupyter-lab --no-browser'}, 'dependencies': {'python': '>=3.12.2,<3.13', 'jupyterlab': '>=4.1.5,<4.2', 'pytorch': '>=2.1.2,<2.2', 'torchvision': '>=0.16.1,<0.17', 'polars': '>=0.20.16,<0.21', 'matplotlib': '>=3.8.3,<3.9', 'black-jupyter': '>=24.3.0,<24.4'}}\n"
     ]
    }
   ],
   "source": [
    "with open(\"pixi.toml\", \"rb\") as f:\n",
    "    print(tomllib.load(f))"
   ]
  },
  {
   "cell_type": "code",
   "execution_count": 25,
   "metadata": {},
   "outputs": [],
   "source": [
    "# typing 형 힌트 지원 라이브러리\n",
    "\n",
    "\n",
    "def greet_all(names: list[str]) -> None:\n",
    "    for name in names:\n",
    "        print(f\"Hello {name}\")\n",
    "\n",
    "def process_data(data: int | str) -> str | None:\n",
    "    if isinstance(data, int):\n",
    "        return str(data)\n",
    "    elif isinstance(data, str):\n",
    "        return data\n",
    "    return None\n",
    "\n",
    "def get_user(id: int) -> dict[str, str] | None:\n",
    "    if id == 1:\n",
    "        return {\"name\":\"John\"}\n",
    "    return None"
   ]
  }
 ],
 "metadata": {
  "kernelspec": {
   "display_name": "Python 3 (ipykernel)",
   "language": "python",
   "name": "python3"
  },
  "language_info": {
   "codemirror_mode": {
    "name": "ipython",
    "version": 3
   },
   "file_extension": ".py",
   "mimetype": "text/x-python",
   "name": "python",
   "nbconvert_exporter": "python",
   "pygments_lexer": "ipython3",
   "version": "3.12.2"
  }
 },
 "nbformat": 4,
 "nbformat_minor": 4
}
