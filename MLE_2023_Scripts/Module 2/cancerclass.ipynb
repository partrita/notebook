{
  "cells": [
    {
      "cell_type": "markdown",
      "metadata": {
        "id": "gjfpJmhEDJxd"
      },
      "source": [
        "# <font color='blue'>\n",
        "# Exercise 2.2"
      ]
    },
    {
      "cell_type": "markdown",
      "metadata": {
        "id": "F9S0rr51Di2Z"
      },
      "source": [
        "<font color='blue'>Cell 1\n",
        "Importing libraries"
      ]
    },
    {
      "cell_type": "code",
      "execution_count": 1,
      "metadata": {
        "id": "stse0hlYbm_F"
      },
      "outputs": [],
      "source": [
        "import numpy as np\n",
        "import pandas as pd"
      ]
    },
    {
      "cell_type": "markdown",
      "metadata": {
        "id": "lJRFsZUQDkaJ"
      },
      "source": [
        "<font color='blue'>Cell 2\n",
        "Reading the data"
      ]
    },
    {
      "cell_type": "code",
      "execution_count": 2,
      "metadata": {
        "colab": {
          "base_uri": "https://localhost:8080/",
          "height": 269
        },
        "id": "6GHeIRw1bm_J",
        "outputId": "95339ca1-8f2d-4a36-d130-0ade82e36035"
      },
      "outputs": [
        {
          "data": {
            "text/html": [
              "<div>\n",
              "<style scoped>\n",
              "    .dataframe tbody tr th:only-of-type {\n",
              "        vertical-align: middle;\n",
              "    }\n",
              "\n",
              "    .dataframe tbody tr th {\n",
              "        vertical-align: top;\n",
              "    }\n",
              "\n",
              "    .dataframe thead th {\n",
              "        text-align: right;\n",
              "    }\n",
              "</style>\n",
              "<table border=\"1\" class=\"dataframe\">\n",
              "  <thead>\n",
              "    <tr style=\"text-align: right;\">\n",
              "      <th></th>\n",
              "      <th>ESR1</th>\n",
              "      <th>PGR</th>\n",
              "      <th>BCL2</th>\n",
              "      <th>NAT1</th>\n",
              "      <th>Results</th>\n",
              "    </tr>\n",
              "  </thead>\n",
              "  <tbody>\n",
              "    <tr>\n",
              "      <th>0</th>\n",
              "      <td>5.1</td>\n",
              "      <td>3.5</td>\n",
              "      <td>1.4</td>\n",
              "      <td>0.2</td>\n",
              "      <td>Cured</td>\n",
              "    </tr>\n",
              "    <tr>\n",
              "      <th>1</th>\n",
              "      <td>4.9</td>\n",
              "      <td>3.0</td>\n",
              "      <td>1.4</td>\n",
              "      <td>0.2</td>\n",
              "      <td>Cured</td>\n",
              "    </tr>\n",
              "    <tr>\n",
              "      <th>2</th>\n",
              "      <td>4.7</td>\n",
              "      <td>3.2</td>\n",
              "      <td>1.3</td>\n",
              "      <td>0.2</td>\n",
              "      <td>Cured</td>\n",
              "    </tr>\n",
              "    <tr>\n",
              "      <th>51</th>\n",
              "      <td>6.4</td>\n",
              "      <td>3.2</td>\n",
              "      <td>4.5</td>\n",
              "      <td>1.5</td>\n",
              "      <td>Recurrence</td>\n",
              "    </tr>\n",
              "    <tr>\n",
              "      <th>52</th>\n",
              "      <td>6.9</td>\n",
              "      <td>3.1</td>\n",
              "      <td>4.9</td>\n",
              "      <td>1.5</td>\n",
              "      <td>Recurrence</td>\n",
              "    </tr>\n",
              "    <tr>\n",
              "      <th>101</th>\n",
              "      <td>5.8</td>\n",
              "      <td>2.7</td>\n",
              "      <td>5.1</td>\n",
              "      <td>1.9</td>\n",
              "      <td>Dead</td>\n",
              "    </tr>\n",
              "    <tr>\n",
              "      <th>102</th>\n",
              "      <td>7.1</td>\n",
              "      <td>3.0</td>\n",
              "      <td>5.9</td>\n",
              "      <td>2.1</td>\n",
              "      <td>Dead</td>\n",
              "    </tr>\n",
              "  </tbody>\n",
              "</table>\n",
              "</div>"
            ],
            "text/plain": [
              "     ESR1  PGR  BCL2  NAT1     Results\n",
              "0     5.1  3.5   1.4   0.2       Cured\n",
              "1     4.9  3.0   1.4   0.2       Cured\n",
              "2     4.7  3.2   1.3   0.2       Cured\n",
              "51    6.4  3.2   4.5   1.5  Recurrence\n",
              "52    6.9  3.1   4.9   1.5  Recurrence\n",
              "101   5.8  2.7   5.1   1.9        Dead\n",
              "102   7.1  3.0   5.9   2.1        Dead"
            ]
          },
          "execution_count": 2,
          "metadata": {},
          "output_type": "execute_result"
        }
      ],
      "source": [
        "data = pd.read_csv('./Data/cancerdata1.csv')\n",
        "data.loc[np.r_[0:3, 51:53, 101:103], :]"
      ]
    },
    {
      "cell_type": "markdown",
      "metadata": {
        "id": "IPrIyptZDm6Y"
      },
      "source": [
        "<font color='blue'>Cell 3\n",
        "Dataset verification"
      ]
    },
    {
      "cell_type": "code",
      "execution_count": 3,
      "metadata": {
        "colab": {
          "base_uri": "https://localhost:8080/"
        },
        "id": "mBXaXB4rbm_O",
        "outputId": "c81864ce-a8ad-49f8-89f5-55318f8f78a1"
      },
      "outputs": [
        {
          "name": "stdout",
          "output_type": "stream",
          "text": [
            "Dataset is complete. No missing value\n"
          ]
        }
      ],
      "source": [
        "#Check the dataset to make sure no data is missing and Check the class labels\n",
        "def verify_dataset(data):\n",
        "  #Use data_found as a dummy variable to determine whether to print missing value information\n",
        "    data_found = 1\n",
        "    for each_column in data.columns:\n",
        "        if data[each_column].isnull().any():\n",
        "            print(\"Data missing in Column \" + each_column)\n",
        "            data_found = 0\n",
        "            quit()\n",
        "\n",
        "        if data_found == 1:\n",
        "            print(\"Dataset is complete. No missing value\")\n",
        "\n",
        "        return\n",
        "#Call verify_dataset and check data\n",
        "verify_dataset(data)"
      ]
    },
    {
      "cell_type": "markdown",
      "metadata": {
        "id": "nfOMZ2TaDpgD"
      },
      "source": [
        "<font color='blue'>Cell 4\n",
        "Creating testing and training data sets"
      ]
    },
    {
      "cell_type": "code",
      "execution_count": 4,
      "metadata": {
        "colab": {
          "base_uri": "https://localhost:8080/"
        },
        "id": "0izS4B1Gbm_R",
        "outputId": "9a01d689-5a35-456c-8634-9f90ac6768db"
      },
      "outputs": [
        {
          "name": "stdout",
          "output_type": "stream",
          "text": [
            "[     ESR1  PGR  BCL2  NAT1     Results\n",
            "0     6.4  3.1   5.5   1.8        Dead\n",
            "1     5.5  2.4   3.7   1.0  Recurrence\n",
            "2     4.6  3.4   1.4   0.3       Cured\n",
            "3     6.4  2.8   5.6   2.2        Dead\n",
            "4     5.0  2.0   3.5   1.0  Recurrence\n",
            "..    ...  ...   ...   ...         ...\n",
            "100   6.4  2.7   5.3   1.9        Dead\n",
            "101   5.2  4.1   1.5   0.1       Cured\n",
            "102   7.2  3.2   6.0   1.8        Dead\n",
            "103   5.0  3.4   1.5   0.2       Cured\n",
            "104   5.8  2.7   4.1   1.0  Recurrence\n",
            "\n",
            "[105 rows x 5 columns],     ESR1  PGR  BCL2  NAT1     Results\n",
            "0    7.2  3.0   5.8   1.6        Dead\n",
            "1    6.1  2.9   4.7   1.4  Recurrence\n",
            "2    5.0  3.2   1.2   0.2       Cured\n",
            "3    5.7  3.8   1.7   0.3       Cured\n",
            "4    4.9  3.1   1.5   0.1       Cured\n",
            "5    6.3  3.4   5.6   2.4        Dead\n",
            "6    5.7  2.6   3.5   1.0  Recurrence\n",
            "7    5.2  2.7   3.9   1.4  Recurrence\n",
            "8    6.2  2.8   4.8   1.8        Dead\n",
            "9    5.6  2.9   3.6   1.3  Recurrence\n",
            "10   5.6  2.8   4.9   2.0        Dead\n",
            "11   5.9  3.2   4.8   1.8  Recurrence\n",
            "12   5.7  2.8   4.5   1.3  Recurrence\n",
            "13   5.9  3.0   5.1   1.8        Dead\n",
            "14   5.0  3.4   1.6   0.4       Cured\n",
            "15   5.1  3.5   1.4   0.3       Cured\n",
            "16   5.8  2.7   5.1   1.9        Dead\n",
            "17   5.4  3.9   1.7   0.4       Cured\n",
            "18   6.4  3.2   4.5   1.5  Recurrence\n",
            "19   5.8  2.6   4.0   1.2  Recurrence\n",
            "20   7.6  3.0   6.6   2.1        Dead\n",
            "21   6.3  2.9   5.6   1.8        Dead\n",
            "22   5.6  2.5   3.9   1.1  Recurrence\n",
            "23   4.8  3.0   1.4   0.1       Cured\n",
            "24   5.1  3.8   1.6   0.2       Cured\n",
            "25   5.2  3.5   1.5   0.2       Cured\n",
            "26   7.4  2.8   6.1   1.9        Dead\n",
            "27   5.6  2.7   4.2   1.3  Recurrence\n",
            "28   6.5  3.0   5.2   2.0        Dead\n",
            "29   6.6  2.9   4.6   1.3  Recurrence\n",
            "30   6.4  2.9   4.3   1.3  Recurrence\n",
            "31   7.7  2.6   6.9   2.3        Dead\n",
            "32   4.4  2.9   1.4   0.2       Cured\n",
            "33   6.9  3.2   5.7   2.3        Dead\n",
            "34   5.1  3.8   1.9   0.4       Cured\n",
            "35   5.3  3.7   1.5   0.2       Cured\n",
            "36   6.9  3.1   4.9   1.5  Recurrence\n",
            "37   7.7  3.0   6.1   2.3        Dead\n",
            "38   5.7  3.0   4.2   1.2  Recurrence\n",
            "39   7.7  2.8   6.7   2.0        Dead\n",
            "40   7.1  3.0   5.9   2.1        Dead\n",
            "41   6.8  3.2   5.9   2.3        Dead\n",
            "42   5.4  3.7   1.5   0.2       Cured\n",
            "43   4.5  2.3   1.3   0.3       Cured\n",
            "44   4.9  3.0   1.4   0.2       Cured]\n"
          ]
        }
      ],
      "source": [
        "#Splitting The Database in training and testing\n",
        "def split_dataset_test_train(data):\n",
        "    data = data.sample(frac=1).reset_index(drop=True)\n",
        "    ##Use the .sample() function to scramble the data set\n",
        "    training_data = data.iloc[:int(0.7 * len(data))].reset_index(drop=True)\n",
        "    ##Determine the integer location (iloc) from beginning of array (:) to 0.7*150 and do a ”cleanup” with a reset call\n",
        "    testing_data = data.iloc[int(0.7 * len(data)):].reset_index(drop=True)\n",
        "    return [training_data, testing_data]\n",
        "\n",
        "#Call split_dataset_test_train and check data sets\n",
        "testtrain = split_dataset_test_train(data)\n",
        "print(testtrain)"
      ]
    },
    {
      "cell_type": "markdown",
      "metadata": {
        "id": "indZ2eQtDvvv"
      },
      "source": [
        "<font color='blue'>Cell 5\n",
        "Calculate gini index for a given split"
      ]
    },
    {
      "cell_type": "code",
      "execution_count": 5,
      "metadata": {
        "id": "PlcI0Jqnbm_U"
      },
      "outputs": [],
      "source": [
        "def gini_index(data, target_col):\n",
        "    elements, counts = np.unique(data[target_col], return_counts = True)\n",
        "    total_counts = sum(counts)\n",
        "    sum_prob = 0.0\n",
        "    for i in range (elements.size):\n",
        "        prob_i = counts[i] / total_counts\n",
        "        sum_prob = sum_prob + prob_i * prob_i\n",
        "\n",
        "    gini_index= 1 - sum_prob\n",
        "    return gini_index"
      ]
    },
    {
      "cell_type": "markdown",
      "metadata": {
        "id": "e4YzS3hpDx6s"
      },
      "source": [
        "<font color='blue'>Cell 6\n",
        "Information gain"
      ]
    },
    {
      "cell_type": "code",
      "execution_count": 6,
      "metadata": {
        "id": "t7j8mTRRbm_a"
      },
      "outputs": [],
      "source": [
        "def information_gain(data, target_col, threshold, target_class = \"Results\"):\n",
        "    total_gini_index = gini_index(data, \"Results\")\n",
        "    data_left = data[data[target_col] < threshold]\n",
        "    data_right = data[data[target_col] >= threshold]\n",
        "    gini_index_after_split = data_left.shape[0]/ data.shape[0] * gini_index(data_left, \"Results\") + data_right.shape[0]/data.shape[0] * gini_index(data_right, \"Results\")\n",
        "    info_gain = total_gini_index - gini_index_after_split\n",
        "    return info_gain"
      ]
    },
    {
      "cell_type": "markdown",
      "metadata": {
        "id": "THtZHUXiEDt8"
      },
      "source": [
        "<font color='blue'>Cell 7\n",
        "Establish optimal splits based on the best features, best cutoffs, and best information gains"
      ]
    },
    {
      "cell_type": "code",
      "execution_count": 7,
      "metadata": {
        "id": "0gnVczvibm_d"
      },
      "outputs": [],
      "source": [
        "def selectBestFeatureAndCutoff(data, target_class = \"Results\"):\n",
        "    featureList = list(data)[0:4]\n",
        "    best_feature = \"None\"\n",
        "    best_cutoff = 0.0\n",
        "    best_info_gain = 0.0\n",
        "    for feature in featureList:\n",
        "        max_value = data[feature].max()\n",
        "        min_value = data[feature].min()\n",
        "        for cutoff in np.arange(min_value, max_value, 0.1):\n",
        "            if best_info_gain < information_gain(data, feature, cutoff):\n",
        "                best_info_gain = information_gain(data, feature, cutoff)\n",
        "                best_cutoff = cutoff\n",
        "                best_feature = feature\n",
        "\n",
        "    return [best_feature, best_cutoff, best_info_gain]"
      ]
    },
    {
      "cell_type": "markdown",
      "metadata": {
        "id": "hE1AgT4eEJk5"
      },
      "source": [
        "<font color='blue'>Cell 8\n",
        "Define the decision tree root (ie the first node), create the associated recursive splitting function, and create the associated prediction function\n"
      ]
    },
    {
      "cell_type": "code",
      "execution_count": 8,
      "metadata": {
        "id": "ft1DBfl3bm_g"
      },
      "outputs": [],
      "source": [
        "class Node:\n",
        "    def __init__(self, feature, cut_off, label = None, is_leaf = False):\n",
        "        self.feature = feature\n",
        "        self.cut_off = cut_off\n",
        "        self.left_child = None\n",
        "        self.right_child = None\n",
        "        self.is_leaf = is_leaf\n",
        "        self.label = label\n",
        "        #print(\"node's label: \")\n",
        "        #print(self.label)\n",
        "class DTree:\n",
        "    # method to train a decision tree\n",
        "    def train(self, data):\n",
        "        self.root = self.build_tree(data)\n",
        "\n",
        "    # method to build decision tree\n",
        "    def build_tree(self, data):\n",
        "        best_feature, best_cutoff, best_info_gain = selectBestFeatureAndCutoff(data)\n",
        "        # if all data has the same label , we are at a leaf node\n",
        "        if len(np.unique(data[\"Results\"])) == 1:\n",
        "            return Node(best_feature, best_cutoff, data[\"Results\"].iloc[0], True)\n",
        "\n",
        "        # if we are not the leaf\n",
        "        # first lets split data\n",
        "        data_left = data[data[best_feature] < best_cutoff]\n",
        "        data_right = data[data[best_feature] >= best_cutoff]\n",
        "\n",
        "        #build current node\n",
        "        current_node = Node(best_feature, best_cutoff)\n",
        "        #add left node\n",
        "        current_node.left_child = self.build_tree(data_left)\n",
        "        #add right node\n",
        "        current_node.right_child = self.build_tree(data_right)\n",
        "\n",
        "        return current_node\n",
        " # Make a prediction with a decision tree\n",
        "    def predict(self, data):\n",
        "        current_node = self.root\n",
        "        while(True):\n",
        "\n",
        "            # if we are at the leaf node , return label\n",
        "            if current_node.is_leaf == True:\n",
        "                return current_node.label\n",
        "            # otherwise we need figure out where to go next\n",
        "            feature = current_node.feature\n",
        "            cutoff = current_node.cut_off\n",
        "            if data[feature]  < cutoff:\n",
        "                current_node = current_node.left_child\n",
        "            else:\n",
        "                current_node = current_node.right_child\n"
      ]
    },
    {
      "cell_type": "markdown",
      "metadata": {
        "id": "AJpnxmRSEdbG"
      },
      "source": [
        "<font color='blue'>Cell 9\n",
        "Train the decision tree"
      ]
    },
    {
      "cell_type": "code",
      "execution_count": 9,
      "metadata": {
        "id": "6djF2V8Mbm_j",
        "scrolled": true
      },
      "outputs": [],
      "source": [
        "d_tree = DTree()\n",
        "training_data = testtrain[0]\n",
        "d_tree.train(training_data)"
      ]
    },
    {
      "cell_type": "markdown",
      "metadata": {
        "id": "JggVehwtFWVY"
      },
      "source": [
        "<font color='blue'>Cell 10\n",
        "Define the confusion matrix"
      ]
    },
    {
      "cell_type": "code",
      "execution_count": 10,
      "metadata": {
        "id": "8bNej47Xbm_l"
      },
      "outputs": [
        {
          "name": "stderr",
          "output_type": "stream",
          "text": [
            "<>:50: SyntaxWarning: invalid escape sequence '\\O'\n",
            "<>:56: SyntaxWarning: invalid escape sequence '\\O'\n",
            "<>:50: SyntaxWarning: invalid escape sequence '\\O'\n",
            "<>:56: SyntaxWarning: invalid escape sequence '\\O'\n",
            "/var/folders/vg/y5ndl75n2yncdzxy8zy2pr8r0000gp/T/ipykernel_29549/2269531854.py:50: SyntaxWarning: invalid escape sequence '\\O'\n",
            "  data = {\"predict\\Observe\": [\"Cured (predict)\", \"Recurrence (predict)\", \"Deceased (predict)\"],\n",
            "/var/folders/vg/y5ndl75n2yncdzxy8zy2pr8r0000gp/T/ipykernel_29549/2269531854.py:56: SyntaxWarning: invalid escape sequence '\\O'\n",
            "  output = pd.DataFrame(data, columns = [\"predict\\Observe\", \"Cured (observed)\", \"Recurrence (observed)\", \"Deceased (observed)\"])\n"
          ]
        }
      ],
      "source": [
        "def print_ConfusionMatrix(result):\n",
        "    count_SS = result[0]\n",
        "    count_SVi = result[1]\n",
        "    count_SVe = result[2]\n",
        "    count_ViVi = result[3]\n",
        "    count_ViVe = result[4]\n",
        "    count_ViS = result[5]\n",
        "    count_VeVe = result[6]\n",
        "    count_VeVi = result[7]\n",
        "    count_VeS = result[8]\n",
        "    count_total_T =  result[9]\n",
        "    count_total_F =  result[10]\n",
        "\n",
        "    print (\"True - Cured, Predicted - Cured : count_SS = \",  count_SS)\n",
        "    print (\"True - Cured, Predicted - Recurrence: count_SVi = \",  count_SVi)\n",
        "    print (\"True - Cured, Predicted - Dead: count_SVe = \",  count_SVe)\n",
        "\n",
        "    print (\"True - Dead, Predicted - Dead: count_ViVi = \",  count_ViVi)\n",
        "    print (\"True - Dead, Predicted - Recurrence: count_ViVe = \",  count_ViVe)\n",
        "    print (\"True - Dead, Predicted - Cured: Cured = \",  count_ViS)\n",
        "\n",
        "    print (\"True - Recurrence, Predicted - Recurrence: count_VeVe = \",  count_VeVe)\n",
        "    print (\"True - Recurrence, Predicted - Dead: count_VeVi = \",  count_VeVi)\n",
        "    print (\"True - Recurrence, Predicted - Cured:count_VeS = \",  count_VeS)\n",
        "\n",
        "    print (\"count_total_T = \",  count_total_T)\n",
        "    print (\"count_total_F = \",  count_total_F)\n",
        "\n",
        "\n",
        "    print (\"1) count_SS / (count_SS + count_ViS + count_VeS) = \", count_SS / (count_SS + count_ViS + count_VeS))\n",
        "    if (count_SS + count_ViS + count_VeS)!=0:\n",
        "      count_SS_ratio=count_SS / (count_SS + count_ViS + count_VeS)\n",
        "    else:\n",
        "      count_SS_ratio=0\n",
        "\n",
        "    print (\"2) count_SVi / (count_SVi + count_ViVi + count_VeVi) = \", count_SVi / (count_SVi + count_ViVi + count_VeVi))\n",
        "    print (\"3) count_SVe / (count_SVe + count_ViVe + count_VeVe) = \", count_SVe / (count_SVe + count_ViVe + count_VeVe))\n",
        "\n",
        "\n",
        "    print (\"4) count_ViS / (count_SS + count_ViS + count_VeS) = \", count_ViS / (count_SS + count_ViS + count_VeS))\n",
        "    print (\"5) count_ViVi / (count_SVi + count_ViVi + count_VeVi) = \", count_ViVi / (count_SVi + count_ViVi + count_VeVi))\n",
        "    print (\"6) count_ViVe / (count_SVe + count_ViVe + count_VeVe) = \", count_ViVe / (count_SVe + count_ViVe + count_VeVe))\n",
        "\n",
        "\n",
        "    print (\"7) count_VeS / (count_SS + count_ViS + count_VeS) = \", count_VeS / (count_SS + count_ViS + count_VeS))\n",
        "    print (\"8) count_VeVi / (count_SVi + count_ViVi + count_VeVi) = \", count_VeVi / (count_SVi + count_ViVi + count_VeVi))\n",
        "    print (\"9) count_VeVe / (count_SVe + count_ViVe + count_VeVe) = \", count_VeVe / (count_SVe + count_ViVe + count_VeVe))\n",
        "\n",
        "\n",
        "    data = {\"predict\\Observe\": [\"Cured (predict)\", \"Recurrence (predict)\", \"Deceased (predict)\"],\n",
        "            \"Cured (observed)\": [ count_SS_ratio, count_SVi / (count_SVi + count_ViVi + count_VeVi), count_SVe / (count_SVe + count_ViVe + count_VeVe)],\n",
        "            \"Recurrence (observed)\": [count_ViS / (count_SS + count_ViS + count_VeS), count_ViVi / (count_SVi + count_ViVi + count_VeVi), count_ViVe / (count_SVe + count_ViVe + count_VeVe)],\n",
        "            \"Deceased (observed)\": [count_VeS / (count_SS + count_ViS + count_VeS), count_VeVi / (count_SVi + count_ViVi + count_VeVi), count_VeVe / (count_SVe + count_ViVe + count_VeVe)]\n",
        "            }\n",
        "\n",
        "    output = pd.DataFrame(data, columns = [\"predict\\Observe\", \"Cured (observed)\", \"Recurrence (observed)\", \"Deceased (observed)\"])\n",
        "    return output"
      ]
    },
    {
      "cell_type": "markdown",
      "metadata": {
        "id": "2Z1PRpGUFbOK"
      },
      "source": [
        "<font color='blue'>Cell 11\n",
        "Create the confusion matrix"
      ]
    },
    {
      "cell_type": "code",
      "execution_count": 11,
      "metadata": {
        "id": "9-_jGUV3bm_o"
      },
      "outputs": [],
      "source": [
        "def predict_batch(data):\n",
        "    d_tree = DTree()\n",
        "    d_tree.train(training_data)\n",
        "    count_SS = 0\n",
        "    count_SVi = 0\n",
        "    count_SVe = 0\n",
        "    count_ViVi = 0\n",
        "    count_ViS = 0\n",
        "    count_ViVe = 0\n",
        "    count_VeVe = 0\n",
        "    count_VeS = 0\n",
        "    count_VeVi = 0\n",
        "    count_total_T = 0\n",
        "    count_total_F  = 0\n",
        "\n",
        "    for i in range (data.shape[0]):\n",
        "        instance = data.iloc[i]\n",
        "        true_label = instance[\"Results\"]\n",
        "        predict_label = d_tree.predict(data.iloc[i])\n",
        "        print (i, \") true_label  = \", true_label , \"predict_label  = \", predict_label )\n",
        "        if true_label == predict_label:\n",
        "            count_total_T = count_total_T + 1\n",
        "            if true_label == \"Cured\":\n",
        "                count_SS = count_SS + 1\n",
        "            elif true_label == \"Dead\":\n",
        "                count_ViVi = count_ViVi + 1\n",
        "            elif true_label == \"Recurrence\":\n",
        "                count_VeVe = count_VeVe + 1\n",
        "        else:\n",
        "            count_total_F = count_total_F + 1\n",
        "            if true_label == \"Cured\" and predict_label == \"Recurrence\":\n",
        "                count_SVi = count_SVi + 1\n",
        "            elif true_label == \"Cured\" and predict_label == \"Dead\":\n",
        "                count_SVe = count_SVe + 1\n",
        "            elif true_label == \"Dead\" and predict_label == \"Recurrence\":\n",
        "                count_VeVi = count_VeVi + 1\n",
        "            elif true_label == \"Dead\" and predict_label == \"Cured\":\n",
        "                count_VeS = count_VeS + 1\n",
        "            elif true_label == \"Recurrence\" and predict_label == \"Dead\":\n",
        "                count_ViVe = count_ViVe + 1\n",
        "            elif true_label == \"Recurrence\" and predict_label == \"Cured\":\n",
        "                count_ViS = count_ViS + 1\n",
        "\n",
        "    return [count_SS, count_SVi, count_SVe, count_ViVi, count_ViVe, count_ViS, count_VeVe, count_VeVi, count_VeS, count_total_T, count_total_F]\n"
      ]
    },
    {
      "cell_type": "markdown",
      "metadata": {
        "id": "baGHY6ZrFmge"
      },
      "source": [
        "<font color='blue'>Cell 12\n",
        "Look at the confusion matrix for training data"
      ]
    },
    {
      "cell_type": "code",
      "execution_count": 12,
      "metadata": {
        "colab": {
          "base_uri": "https://localhost:8080/",
          "height": 1000
        },
        "id": "Qia7i-wXbm_q",
        "outputId": "b51fe560-1e02-495c-a88c-10ac1cd09cbf"
      },
      "outputs": [
        {
          "name": "stdout",
          "output_type": "stream",
          "text": [
            "training_data =       ESR1  PGR  BCL2  NAT1     Results\n",
            "0     6.4  3.1   5.5   1.8        Dead\n",
            "1     5.5  2.4   3.7   1.0  Recurrence\n",
            "2     4.6  3.4   1.4   0.3       Cured\n",
            "3     6.4  2.8   5.6   2.2        Dead\n",
            "4     5.0  2.0   3.5   1.0  Recurrence\n",
            "..    ...  ...   ...   ...         ...\n",
            "100   6.4  2.7   5.3   1.9        Dead\n",
            "101   5.2  4.1   1.5   0.1       Cured\n",
            "102   7.2  3.2   6.0   1.8        Dead\n",
            "103   5.0  3.4   1.5   0.2       Cured\n",
            "104   5.8  2.7   4.1   1.0  Recurrence\n",
            "\n",
            "[105 rows x 5 columns]\n",
            "0 ) true_label  =  Dead predict_label  =  Dead\n",
            "1 ) true_label  =  Recurrence predict_label  =  Recurrence\n",
            "2 ) true_label  =  Cured predict_label  =  Cured\n",
            "3 ) true_label  =  Dead predict_label  =  Dead\n",
            "4 ) true_label  =  Recurrence predict_label  =  Recurrence\n",
            "5 ) true_label  =  Cured predict_label  =  Cured\n",
            "6 ) true_label  =  Recurrence predict_label  =  Recurrence\n",
            "7 ) true_label  =  Dead predict_label  =  Dead\n",
            "8 ) true_label  =  Cured predict_label  =  Cured\n",
            "9 ) true_label  =  Dead predict_label  =  Dead\n",
            "10 ) true_label  =  Recurrence predict_label  =  Recurrence\n",
            "11 ) true_label  =  Dead predict_label  =  Dead\n",
            "12 ) true_label  =  Cured predict_label  =  Cured\n",
            "13 ) true_label  =  Dead predict_label  =  Dead\n",
            "14 ) true_label  =  Dead predict_label  =  Dead\n",
            "15 ) true_label  =  Cured predict_label  =  Cured\n",
            "16 ) true_label  =  Recurrence predict_label  =  Recurrence\n",
            "17 ) true_label  =  Cured predict_label  =  Cured\n",
            "18 ) true_label  =  Recurrence predict_label  =  Recurrence\n",
            "19 ) true_label  =  Dead predict_label  =  Dead\n",
            "20 ) true_label  =  Cured predict_label  =  Cured\n",
            "21 ) true_label  =  Dead predict_label  =  Dead\n",
            "22 ) true_label  =  Cured predict_label  =  Cured\n",
            "23 ) true_label  =  Cured predict_label  =  Cured\n",
            "24 ) true_label  =  Cured predict_label  =  Cured\n",
            "25 ) true_label  =  Recurrence predict_label  =  Recurrence\n",
            "26 ) true_label  =  Dead predict_label  =  Dead\n",
            "27 ) true_label  =  Dead predict_label  =  Dead\n",
            "28 ) true_label  =  Recurrence predict_label  =  Recurrence\n",
            "29 ) true_label  =  Cured predict_label  =  Cured\n",
            "30 ) true_label  =  Dead predict_label  =  Dead\n",
            "31 ) true_label  =  Dead predict_label  =  Dead\n",
            "32 ) true_label  =  Dead predict_label  =  Dead\n",
            "33 ) true_label  =  Dead predict_label  =  Dead\n",
            "34 ) true_label  =  Recurrence predict_label  =  Recurrence\n",
            "35 ) true_label  =  Recurrence predict_label  =  Recurrence\n",
            "36 ) true_label  =  Cured predict_label  =  Cured\n",
            "37 ) true_label  =  Dead predict_label  =  Dead\n",
            "38 ) true_label  =  Recurrence predict_label  =  Recurrence\n",
            "39 ) true_label  =  Dead predict_label  =  Dead\n",
            "40 ) true_label  =  Cured predict_label  =  Cured\n",
            "41 ) true_label  =  Cured predict_label  =  Cured\n",
            "42 ) true_label  =  Recurrence predict_label  =  Recurrence\n",
            "43 ) true_label  =  Cured predict_label  =  Cured\n",
            "44 ) true_label  =  Cured predict_label  =  Cured\n",
            "45 ) true_label  =  Recurrence predict_label  =  Recurrence\n",
            "46 ) true_label  =  Dead predict_label  =  Dead\n",
            "47 ) true_label  =  Recurrence predict_label  =  Recurrence\n",
            "48 ) true_label  =  Recurrence predict_label  =  Recurrence\n",
            "49 ) true_label  =  Dead predict_label  =  Dead\n",
            "50 ) true_label  =  Recurrence predict_label  =  Recurrence\n",
            "51 ) true_label  =  Cured predict_label  =  Cured\n",
            "52 ) true_label  =  Cured predict_label  =  Cured\n",
            "53 ) true_label  =  Recurrence predict_label  =  Recurrence\n",
            "54 ) true_label  =  Recurrence predict_label  =  Recurrence\n",
            "55 ) true_label  =  Cured predict_label  =  Cured\n",
            "56 ) true_label  =  Cured predict_label  =  Cured\n",
            "57 ) true_label  =  Recurrence predict_label  =  Recurrence\n",
            "58 ) true_label  =  Dead predict_label  =  Dead\n",
            "59 ) true_label  =  Recurrence predict_label  =  Recurrence\n",
            "60 ) true_label  =  Cured predict_label  =  Cured\n",
            "61 ) true_label  =  Dead predict_label  =  Dead\n",
            "62 ) true_label  =  Dead predict_label  =  Dead\n",
            "63 ) true_label  =  Dead predict_label  =  Dead\n",
            "64 ) true_label  =  Cured predict_label  =  Cured\n",
            "65 ) true_label  =  Dead predict_label  =  Dead\n",
            "66 ) true_label  =  Dead predict_label  =  Dead\n",
            "67 ) true_label  =  Recurrence predict_label  =  Recurrence\n",
            "68 ) true_label  =  Cured predict_label  =  Cured\n",
            "69 ) true_label  =  Recurrence predict_label  =  Recurrence\n",
            "70 ) true_label  =  Recurrence predict_label  =  Recurrence\n",
            "71 ) true_label  =  Recurrence predict_label  =  Recurrence\n",
            "72 ) true_label  =  Recurrence predict_label  =  Recurrence\n",
            "73 ) true_label  =  Dead predict_label  =  Dead\n",
            "74 ) true_label  =  Cured predict_label  =  Cured\n",
            "75 ) true_label  =  Dead predict_label  =  Dead\n",
            "76 ) true_label  =  Recurrence predict_label  =  Recurrence\n",
            "77 ) true_label  =  Cured predict_label  =  Cured\n",
            "78 ) true_label  =  Cured predict_label  =  Cured\n",
            "79 ) true_label  =  Dead predict_label  =  Dead\n",
            "80 ) true_label  =  Recurrence predict_label  =  Recurrence\n",
            "81 ) true_label  =  Recurrence predict_label  =  Recurrence\n",
            "82 ) true_label  =  Recurrence predict_label  =  Recurrence\n",
            "83 ) true_label  =  Cured predict_label  =  Cured\n",
            "84 ) true_label  =  Dead predict_label  =  Dead\n",
            "85 ) true_label  =  Cured predict_label  =  Cured\n",
            "86 ) true_label  =  Dead predict_label  =  Dead\n",
            "87 ) true_label  =  Recurrence predict_label  =  Recurrence\n",
            "88 ) true_label  =  Recurrence predict_label  =  Recurrence\n",
            "89 ) true_label  =  Cured predict_label  =  Cured\n",
            "90 ) true_label  =  Cured predict_label  =  Cured\n",
            "91 ) true_label  =  Dead predict_label  =  Dead\n",
            "92 ) true_label  =  Recurrence predict_label  =  Recurrence\n",
            "93 ) true_label  =  Cured predict_label  =  Cured\n",
            "94 ) true_label  =  Dead predict_label  =  Dead\n",
            "95 ) true_label  =  Cured predict_label  =  Cured\n",
            "96 ) true_label  =  Recurrence predict_label  =  Recurrence\n",
            "97 ) true_label  =  Dead predict_label  =  Dead\n",
            "98 ) true_label  =  Recurrence predict_label  =  Recurrence\n",
            "99 ) true_label  =  Cured predict_label  =  Cured\n",
            "100 ) true_label  =  Dead predict_label  =  Dead\n",
            "101 ) true_label  =  Cured predict_label  =  Cured\n",
            "102 ) true_label  =  Dead predict_label  =  Dead\n",
            "103 ) true_label  =  Cured predict_label  =  Cured\n",
            "104 ) true_label  =  Recurrence predict_label  =  Recurrence\n",
            "predict_batch_results =  [35, 0, 0, 35, 0, 0, 35, 0, 0, 105, 0]\n",
            "0 ) true_label  =  Dead predict_label  =  Dead\n",
            "1 ) true_label  =  Recurrence predict_label  =  Recurrence\n",
            "2 ) true_label  =  Cured predict_label  =  Cured\n",
            "3 ) true_label  =  Dead predict_label  =  Dead\n",
            "4 ) true_label  =  Recurrence predict_label  =  Recurrence\n",
            "5 ) true_label  =  Cured predict_label  =  Cured\n",
            "6 ) true_label  =  Recurrence predict_label  =  Recurrence\n",
            "7 ) true_label  =  Dead predict_label  =  Dead\n",
            "8 ) true_label  =  Cured predict_label  =  Cured\n",
            "9 ) true_label  =  Dead predict_label  =  Dead\n",
            "10 ) true_label  =  Recurrence predict_label  =  Recurrence\n",
            "11 ) true_label  =  Dead predict_label  =  Dead\n",
            "12 ) true_label  =  Cured predict_label  =  Cured\n",
            "13 ) true_label  =  Dead predict_label  =  Dead\n",
            "14 ) true_label  =  Dead predict_label  =  Dead\n",
            "15 ) true_label  =  Cured predict_label  =  Cured\n",
            "16 ) true_label  =  Recurrence predict_label  =  Recurrence\n",
            "17 ) true_label  =  Cured predict_label  =  Cured\n",
            "18 ) true_label  =  Recurrence predict_label  =  Recurrence\n",
            "19 ) true_label  =  Dead predict_label  =  Dead\n",
            "20 ) true_label  =  Cured predict_label  =  Cured\n",
            "21 ) true_label  =  Dead predict_label  =  Dead\n",
            "22 ) true_label  =  Cured predict_label  =  Cured\n",
            "23 ) true_label  =  Cured predict_label  =  Cured\n",
            "24 ) true_label  =  Cured predict_label  =  Cured\n",
            "25 ) true_label  =  Recurrence predict_label  =  Recurrence\n",
            "26 ) true_label  =  Dead predict_label  =  Dead\n",
            "27 ) true_label  =  Dead predict_label  =  Dead\n",
            "28 ) true_label  =  Recurrence predict_label  =  Recurrence\n",
            "29 ) true_label  =  Cured predict_label  =  Cured\n",
            "30 ) true_label  =  Dead predict_label  =  Dead\n",
            "31 ) true_label  =  Dead predict_label  =  Dead\n",
            "32 ) true_label  =  Dead predict_label  =  Dead\n",
            "33 ) true_label  =  Dead predict_label  =  Dead\n",
            "34 ) true_label  =  Recurrence predict_label  =  Recurrence\n",
            "35 ) true_label  =  Recurrence predict_label  =  Recurrence\n",
            "36 ) true_label  =  Cured predict_label  =  Cured\n",
            "37 ) true_label  =  Dead predict_label  =  Dead\n",
            "38 ) true_label  =  Recurrence predict_label  =  Recurrence\n",
            "39 ) true_label  =  Dead predict_label  =  Dead\n",
            "40 ) true_label  =  Cured predict_label  =  Cured\n",
            "41 ) true_label  =  Cured predict_label  =  Cured\n",
            "42 ) true_label  =  Recurrence predict_label  =  Recurrence\n",
            "43 ) true_label  =  Cured predict_label  =  Cured\n",
            "44 ) true_label  =  Cured predict_label  =  Cured\n",
            "45 ) true_label  =  Recurrence predict_label  =  Recurrence\n",
            "46 ) true_label  =  Dead predict_label  =  Dead\n",
            "47 ) true_label  =  Recurrence predict_label  =  Recurrence\n",
            "48 ) true_label  =  Recurrence predict_label  =  Recurrence\n",
            "49 ) true_label  =  Dead predict_label  =  Dead\n",
            "50 ) true_label  =  Recurrence predict_label  =  Recurrence\n",
            "51 ) true_label  =  Cured predict_label  =  Cured\n",
            "52 ) true_label  =  Cured predict_label  =  Cured\n",
            "53 ) true_label  =  Recurrence predict_label  =  Recurrence\n",
            "54 ) true_label  =  Recurrence predict_label  =  Recurrence\n",
            "55 ) true_label  =  Cured predict_label  =  Cured\n",
            "56 ) true_label  =  Cured predict_label  =  Cured\n",
            "57 ) true_label  =  Recurrence predict_label  =  Recurrence\n",
            "58 ) true_label  =  Dead predict_label  =  Dead\n",
            "59 ) true_label  =  Recurrence predict_label  =  Recurrence\n",
            "60 ) true_label  =  Cured predict_label  =  Cured\n",
            "61 ) true_label  =  Dead predict_label  =  Dead\n",
            "62 ) true_label  =  Dead predict_label  =  Dead\n",
            "63 ) true_label  =  Dead predict_label  =  Dead\n",
            "64 ) true_label  =  Cured predict_label  =  Cured\n",
            "65 ) true_label  =  Dead predict_label  =  Dead\n",
            "66 ) true_label  =  Dead predict_label  =  Dead\n",
            "67 ) true_label  =  Recurrence predict_label  =  Recurrence\n",
            "68 ) true_label  =  Cured predict_label  =  Cured\n",
            "69 ) true_label  =  Recurrence predict_label  =  Recurrence\n",
            "70 ) true_label  =  Recurrence predict_label  =  Recurrence\n",
            "71 ) true_label  =  Recurrence predict_label  =  Recurrence\n",
            "72 ) true_label  =  Recurrence predict_label  =  Recurrence\n",
            "73 ) true_label  =  Dead predict_label  =  Dead\n",
            "74 ) true_label  =  Cured predict_label  =  Cured\n",
            "75 ) true_label  =  Dead predict_label  =  Dead\n",
            "76 ) true_label  =  Recurrence predict_label  =  Recurrence\n",
            "77 ) true_label  =  Cured predict_label  =  Cured\n",
            "78 ) true_label  =  Cured predict_label  =  Cured\n",
            "79 ) true_label  =  Dead predict_label  =  Dead\n",
            "80 ) true_label  =  Recurrence predict_label  =  Recurrence\n",
            "81 ) true_label  =  Recurrence predict_label  =  Recurrence\n",
            "82 ) true_label  =  Recurrence predict_label  =  Recurrence\n",
            "83 ) true_label  =  Cured predict_label  =  Cured\n",
            "84 ) true_label  =  Dead predict_label  =  Dead\n",
            "85 ) true_label  =  Cured predict_label  =  Cured\n",
            "86 ) true_label  =  Dead predict_label  =  Dead\n",
            "87 ) true_label  =  Recurrence predict_label  =  Recurrence\n",
            "88 ) true_label  =  Recurrence predict_label  =  Recurrence\n",
            "89 ) true_label  =  Cured predict_label  =  Cured\n",
            "90 ) true_label  =  Cured predict_label  =  Cured\n",
            "91 ) true_label  =  Dead predict_label  =  Dead\n",
            "92 ) true_label  =  Recurrence predict_label  =  Recurrence\n",
            "93 ) true_label  =  Cured predict_label  =  Cured\n",
            "94 ) true_label  =  Dead predict_label  =  Dead\n",
            "95 ) true_label  =  Cured predict_label  =  Cured\n",
            "96 ) true_label  =  Recurrence predict_label  =  Recurrence\n",
            "97 ) true_label  =  Dead predict_label  =  Dead\n",
            "98 ) true_label  =  Recurrence predict_label  =  Recurrence\n",
            "99 ) true_label  =  Cured predict_label  =  Cured\n",
            "100 ) true_label  =  Dead predict_label  =  Dead\n",
            "101 ) true_label  =  Cured predict_label  =  Cured\n",
            "102 ) true_label  =  Dead predict_label  =  Dead\n",
            "103 ) true_label  =  Cured predict_label  =  Cured\n",
            "104 ) true_label  =  Recurrence predict_label  =  Recurrence\n",
            "True - Cured, Predicted - Cured : count_SS =  35\n",
            "True - Cured, Predicted - Recurrence: count_SVi =  0\n",
            "True - Cured, Predicted - Dead: count_SVe =  0\n",
            "True - Dead, Predicted - Dead: count_ViVi =  35\n",
            "True - Dead, Predicted - Recurrence: count_ViVe =  0\n",
            "True - Dead, Predicted - Cured: Cured =  0\n",
            "True - Recurrence, Predicted - Recurrence: count_VeVe =  35\n",
            "True - Recurrence, Predicted - Dead: count_VeVi =  0\n",
            "True - Recurrence, Predicted - Cured:count_VeS =  0\n",
            "count_total_T =  105\n",
            "count_total_F =  0\n",
            "1) count_SS / (count_SS + count_ViS + count_VeS) =  1.0\n",
            "2) count_SVi / (count_SVi + count_ViVi + count_VeVi) =  0.0\n",
            "3) count_SVe / (count_SVe + count_ViVe + count_VeVe) =  0.0\n",
            "4) count_ViS / (count_SS + count_ViS + count_VeS) =  0.0\n",
            "5) count_ViVi / (count_SVi + count_ViVi + count_VeVi) =  1.0\n",
            "6) count_ViVe / (count_SVe + count_ViVe + count_VeVe) =  0.0\n",
            "7) count_VeS / (count_SS + count_ViS + count_VeS) =  0.0\n",
            "8) count_VeVi / (count_SVi + count_ViVi + count_VeVi) =  0.0\n",
            "9) count_VeVe / (count_SVe + count_ViVe + count_VeVe) =  1.0\n"
          ]
        },
        {
          "data": {
            "text/html": [
              "<div>\n",
              "<style scoped>\n",
              "    .dataframe tbody tr th:only-of-type {\n",
              "        vertical-align: middle;\n",
              "    }\n",
              "\n",
              "    .dataframe tbody tr th {\n",
              "        vertical-align: top;\n",
              "    }\n",
              "\n",
              "    .dataframe thead th {\n",
              "        text-align: right;\n",
              "    }\n",
              "</style>\n",
              "<table border=\"1\" class=\"dataframe\">\n",
              "  <thead>\n",
              "    <tr style=\"text-align: right;\">\n",
              "      <th></th>\n",
              "      <th>predict\\Observe</th>\n",
              "      <th>Cured (observed)</th>\n",
              "      <th>Recurrence (observed)</th>\n",
              "      <th>Deceased (observed)</th>\n",
              "    </tr>\n",
              "  </thead>\n",
              "  <tbody>\n",
              "    <tr>\n",
              "      <th>0</th>\n",
              "      <td>Cured (predict)</td>\n",
              "      <td>1.0</td>\n",
              "      <td>0.0</td>\n",
              "      <td>0.0</td>\n",
              "    </tr>\n",
              "    <tr>\n",
              "      <th>1</th>\n",
              "      <td>Recurrence (predict)</td>\n",
              "      <td>0.0</td>\n",
              "      <td>1.0</td>\n",
              "      <td>0.0</td>\n",
              "    </tr>\n",
              "    <tr>\n",
              "      <th>2</th>\n",
              "      <td>Deceased (predict)</td>\n",
              "      <td>0.0</td>\n",
              "      <td>0.0</td>\n",
              "      <td>1.0</td>\n",
              "    </tr>\n",
              "  </tbody>\n",
              "</table>\n",
              "</div>"
            ],
            "text/plain": [
              "        predict\\Observe  Cured (observed)  Recurrence (observed)  \\\n",
              "0       Cured (predict)               1.0                    0.0   \n",
              "1  Recurrence (predict)               0.0                    1.0   \n",
              "2    Deceased (predict)               0.0                    0.0   \n",
              "\n",
              "   Deceased (observed)  \n",
              "0                  0.0  \n",
              "1                  0.0  \n",
              "2                  1.0  "
            ]
          },
          "execution_count": 12,
          "metadata": {},
          "output_type": "execute_result"
        }
      ],
      "source": [
        "training_data = testtrain[0]\n",
        "print (\"training_data = \", training_data)\n",
        "predict_batch_results=predict_batch(training_data)\n",
        "print (\"predict_batch_results = \", predict_batch_results)\n",
        "print_ConfusionMatrix(predict_batch(training_data))"
      ]
    },
    {
      "cell_type": "markdown",
      "metadata": {
        "id": "OgwW_A_TFoQy"
      },
      "source": [
        "<font color='blue'>Cell 13\n",
        "Look at the confusion matrix for testing data"
      ]
    },
    {
      "cell_type": "code",
      "execution_count": 13,
      "metadata": {
        "colab": {
          "base_uri": "https://localhost:8080/",
          "height": 1000
        },
        "id": "TTDqbA6Fbm_u",
        "outputId": "30a95503-9d57-4559-c4ff-3376ee8e8b0a"
      },
      "outputs": [
        {
          "name": "stdout",
          "output_type": "stream",
          "text": [
            "0 ) true_label  =  Dead predict_label  =  Recurrence\n",
            "1 ) true_label  =  Recurrence predict_label  =  Recurrence\n",
            "2 ) true_label  =  Cured predict_label  =  Cured\n",
            "3 ) true_label  =  Cured predict_label  =  Cured\n",
            "4 ) true_label  =  Cured predict_label  =  Cured\n",
            "5 ) true_label  =  Dead predict_label  =  Dead\n",
            "6 ) true_label  =  Recurrence predict_label  =  Dead\n",
            "7 ) true_label  =  Recurrence predict_label  =  Recurrence\n",
            "8 ) true_label  =  Dead predict_label  =  Dead\n",
            "9 ) true_label  =  Recurrence predict_label  =  Recurrence\n",
            "10 ) true_label  =  Dead predict_label  =  Dead\n",
            "11 ) true_label  =  Recurrence predict_label  =  Dead\n",
            "12 ) true_label  =  Recurrence predict_label  =  Dead\n",
            "13 ) true_label  =  Dead predict_label  =  Dead\n",
            "14 ) true_label  =  Cured predict_label  =  Cured\n",
            "15 ) true_label  =  Cured predict_label  =  Cured\n",
            "16 ) true_label  =  Dead predict_label  =  Dead\n",
            "17 ) true_label  =  Cured predict_label  =  Cured\n",
            "18 ) true_label  =  Recurrence predict_label  =  Recurrence\n",
            "19 ) true_label  =  Recurrence predict_label  =  Recurrence\n",
            "20 ) true_label  =  Dead predict_label  =  Dead\n",
            "21 ) true_label  =  Dead predict_label  =  Dead\n",
            "22 ) true_label  =  Recurrence predict_label  =  Dead\n",
            "23 ) true_label  =  Cured predict_label  =  Cured\n",
            "24 ) true_label  =  Cured predict_label  =  Cured\n",
            "25 ) true_label  =  Cured predict_label  =  Cured\n",
            "26 ) true_label  =  Dead predict_label  =  Dead\n",
            "27 ) true_label  =  Recurrence predict_label  =  Dead\n",
            "28 ) true_label  =  Dead predict_label  =  Dead\n",
            "29 ) true_label  =  Recurrence predict_label  =  Recurrence\n",
            "30 ) true_label  =  Recurrence predict_label  =  Recurrence\n",
            "31 ) true_label  =  Dead predict_label  =  Dead\n",
            "32 ) true_label  =  Cured predict_label  =  Cured\n",
            "33 ) true_label  =  Dead predict_label  =  Dead\n",
            "34 ) true_label  =  Cured predict_label  =  Cured\n",
            "35 ) true_label  =  Cured predict_label  =  Cured\n",
            "36 ) true_label  =  Recurrence predict_label  =  Recurrence\n",
            "37 ) true_label  =  Dead predict_label  =  Dead\n",
            "38 ) true_label  =  Recurrence predict_label  =  Recurrence\n",
            "39 ) true_label  =  Dead predict_label  =  Dead\n",
            "40 ) true_label  =  Dead predict_label  =  Dead\n",
            "41 ) true_label  =  Dead predict_label  =  Dead\n",
            "42 ) true_label  =  Cured predict_label  =  Cured\n",
            "43 ) true_label  =  Cured predict_label  =  Cured\n",
            "44 ) true_label  =  Cured predict_label  =  Cured\n",
            "True - Cured, Predicted - Cured : count_SS =  15\n",
            "True - Cured, Predicted - Recurrence: count_SVi =  0\n",
            "True - Cured, Predicted - Dead: count_SVe =  0\n",
            "True - Dead, Predicted - Dead: count_ViVi =  15\n",
            "True - Dead, Predicted - Recurrence: count_ViVe =  5\n",
            "True - Dead, Predicted - Cured: Cured =  0\n",
            "True - Recurrence, Predicted - Recurrence: count_VeVe =  9\n",
            "True - Recurrence, Predicted - Dead: count_VeVi =  1\n",
            "True - Recurrence, Predicted - Cured:count_VeS =  0\n",
            "count_total_T =  39\n",
            "count_total_F =  6\n",
            "1) count_SS / (count_SS + count_ViS + count_VeS) =  1.0\n",
            "2) count_SVi / (count_SVi + count_ViVi + count_VeVi) =  0.0\n",
            "3) count_SVe / (count_SVe + count_ViVe + count_VeVe) =  0.0\n",
            "4) count_ViS / (count_SS + count_ViS + count_VeS) =  0.0\n",
            "5) count_ViVi / (count_SVi + count_ViVi + count_VeVi) =  0.9375\n",
            "6) count_ViVe / (count_SVe + count_ViVe + count_VeVe) =  0.35714285714285715\n",
            "7) count_VeS / (count_SS + count_ViS + count_VeS) =  0.0\n",
            "8) count_VeVi / (count_SVi + count_ViVi + count_VeVi) =  0.0625\n",
            "9) count_VeVe / (count_SVe + count_ViVe + count_VeVe) =  0.6428571428571429\n"
          ]
        },
        {
          "data": {
            "text/html": [
              "<div>\n",
              "<style scoped>\n",
              "    .dataframe tbody tr th:only-of-type {\n",
              "        vertical-align: middle;\n",
              "    }\n",
              "\n",
              "    .dataframe tbody tr th {\n",
              "        vertical-align: top;\n",
              "    }\n",
              "\n",
              "    .dataframe thead th {\n",
              "        text-align: right;\n",
              "    }\n",
              "</style>\n",
              "<table border=\"1\" class=\"dataframe\">\n",
              "  <thead>\n",
              "    <tr style=\"text-align: right;\">\n",
              "      <th></th>\n",
              "      <th>predict\\Observe</th>\n",
              "      <th>Cured (observed)</th>\n",
              "      <th>Recurrence (observed)</th>\n",
              "      <th>Deceased (observed)</th>\n",
              "    </tr>\n",
              "  </thead>\n",
              "  <tbody>\n",
              "    <tr>\n",
              "      <th>0</th>\n",
              "      <td>Cured (predict)</td>\n",
              "      <td>1.0</td>\n",
              "      <td>0.000000</td>\n",
              "      <td>0.000000</td>\n",
              "    </tr>\n",
              "    <tr>\n",
              "      <th>1</th>\n",
              "      <td>Recurrence (predict)</td>\n",
              "      <td>0.0</td>\n",
              "      <td>0.937500</td>\n",
              "      <td>0.062500</td>\n",
              "    </tr>\n",
              "    <tr>\n",
              "      <th>2</th>\n",
              "      <td>Deceased (predict)</td>\n",
              "      <td>0.0</td>\n",
              "      <td>0.357143</td>\n",
              "      <td>0.642857</td>\n",
              "    </tr>\n",
              "  </tbody>\n",
              "</table>\n",
              "</div>"
            ],
            "text/plain": [
              "        predict\\Observe  Cured (observed)  Recurrence (observed)  \\\n",
              "0       Cured (predict)               1.0               0.000000   \n",
              "1  Recurrence (predict)               0.0               0.937500   \n",
              "2    Deceased (predict)               0.0               0.357143   \n",
              "\n",
              "   Deceased (observed)  \n",
              "0             0.000000  \n",
              "1             0.062500  \n",
              "2             0.642857  "
            ]
          },
          "execution_count": 13,
          "metadata": {},
          "output_type": "execute_result"
        }
      ],
      "source": [
        "testing_data = testtrain[1]\n",
        "print_ConfusionMatrix(predict_batch(testing_data))"
      ]
    },
    {
      "cell_type": "markdown",
      "metadata": {
        "id": "w88-kAIGFrz1"
      },
      "source": [
        "<font color='blue'>Cell 14\n",
        "Function to make predictions"
      ]
    },
    {
      "cell_type": "code",
      "execution_count": 14,
      "metadata": {
        "id": "Jp9XzrMZbm_y"
      },
      "outputs": [],
      "source": [
        "# method that run prediction\n",
        "def predict(d_tree, ESR1, PGR, BCL2, NAT1):\n",
        "    test_data = pd.Series([ESR1, PGR, BCL2, NAT1], index = ['ESR1', 'PGR', 'BCL2', 'NAT1'])\n",
        "    return d_tree.predict(test_data)"
      ]
    },
    {
      "cell_type": "markdown",
      "metadata": {
        "id": "IMNLME_JF2Wz"
      },
      "source": [
        "<font color='blue'>Cell 15\n",
        "Make predictions"
      ]
    },
    {
      "cell_type": "code",
      "execution_count": 16,
      "metadata": {
        "colab": {
          "base_uri": "https://localhost:8080/"
        },
        "id": "Ofw2TfmOZiqJ",
        "outputId": "35734205-d973-464c-db72-e44d2d2514f1"
      },
      "outputs": [
        {
          "name": "stdout",
          "output_type": "stream",
          "text": [
            "This patient is  Recurrence\n"
          ]
        }
      ],
      "source": [
        "def input_test_seq():\n",
        "    ESR1_expr = float(input('Enter the expression level of ESR1:'))\n",
        "    while True:\n",
        "        if float(ESR1_expr)< 0 or float(ESR1_expr) > 10:\n",
        "            print('Invalid Entry. Please enter value less than 10')\n",
        "            ESR1_expr = float(input('Enter the expression level of ESR1:'))\n",
        "            continue\n",
        "        else:\n",
        "            break\n",
        "\n",
        "    PGR_expr = float(input('Enter the expression level of PGR:'))\n",
        "    while True:\n",
        "        if float(PGR_expr) < 0 or float(PGR_expr) > 10:\n",
        "            print('Invalid Entry. Please enter value less than 10')\n",
        "            PGR_expr = float(input('Enter the expression level of PGR:'))\n",
        "            continue\n",
        "        else:\n",
        "            break\n",
        "\n",
        "    BCL2_expr = float(input('Enter the expression level of BCL2:'))\n",
        "    while True:\n",
        "        if float(BCL2_expr) <0 or float(BCL2_expr) > 10:\n",
        "            print('Invalid Entry. Please enter value less than 10')\n",
        "            BCL2_expr = float(input('Enter the expression level of BCL2:'))\n",
        "            continue\n",
        "        else:\n",
        "            break\n",
        "\n",
        "    NAT1_expr = float(input('Enter the expression level of NAT1:'))\n",
        "    while True:\n",
        "        if float(NAT1_expr) < 0 or float(NAT1_expr) > 10:\n",
        "            print('Invalid Entry. Please enter value less than 10')\n",
        "            NAT1_expr = float(input('Enter the expression level of NAT1:'))\n",
        "            continue\n",
        "        else:\n",
        "            break\n",
        "\n",
        "    predict_expr = [ESR1_expr,PGR_expr,BCL2_expr,NAT1_expr]\n",
        "    result_category = predict(d_tree, predict_expr[0],predict_expr[1],predict_expr[2],predict_expr[3])\n",
        "    print(\"This patient is \", result_category)\n",
        "\n",
        "    return\n",
        "\n",
        "input_test_seq()"
      ]
    }
  ],
  "metadata": {
    "colab": {
      "provenance": []
    },
    "kernelspec": {
      "display_name": "Python 3",
      "language": "python",
      "name": "python3"
    },
    "language_info": {
      "codemirror_mode": {
        "name": "ipython",
        "version": 3
      },
      "file_extension": ".py",
      "mimetype": "text/x-python",
      "name": "python",
      "nbconvert_exporter": "python",
      "pygments_lexer": "ipython3",
      "version": "3.12.2"
    }
  },
  "nbformat": 4,
  "nbformat_minor": 0
}
