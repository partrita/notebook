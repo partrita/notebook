{
 "cells": [
  {
   "cell_type": "raw",
   "metadata": {},
   "source": [
    "---\n",
    "title: \"Getting started with polars\"\n",
    "format: html\n",
    "---"
   ]
  },
  {
   "cell_type": "markdown",
   "metadata": {},
   "source": [
    "- https://www.rhosignal.com/posts/polars-pandas-cheatsheet/\n",
    "\n",
    "# 들어가며\n",
    "\n",
    "`Polars`는 Python의 유연성과 사용 편의성을 Rust의 속도와 확장성과 결합하여 다양한 데이터 처리 작업에 매력적인 선택지가 됩니다. 그렇다면 Polars가 다른 라이브러리들 사이에서 눈에 띄게 빛나는 이유는 무엇일까요? 이유는 많지만 그 중 가장 주목할 만한 것은 Polars가 엄청나게 빠르다는 점입니다.\n",
    "\n",
    "Polars의 핵심은 외부 종속성이 없고 저수준에서 작동하는 `Rust` 언어로 작성되었습니다. Rust는 메모리 효율적이며 C 또는 C++과 동등한 성능을 제공하여 데이터 분석 라이브러리를 지원하기에 좋은 언어입니다. Polars는 또한 모든 사용 가능한 CPU 코어를 병렬로 활용할 수 있도록 하고, 모든 데이터를 메모리에 보유할 필요 없이 대규모 데이터 집합을 지원합니다.\n",
    "\n",
    "Polars의 또 다른 탁월한 기능은 직관적인 API입니다. 이미 pandas와 같은 라이브러리를 알고 있다면, Polars를 사용하는 데 어려움이 없을 것입니다. 이 라이브러리는 익숙하면서도 독특한 인터페이스를 제공하여 Polars로의 전환을 쉽게 만듭니다. 이는 기존의 지식과 코드베이스를 활용하면서도 Polars의 성능 향상을 이끌어낼 수 있다는 것을 의미합니다.\n",
    "\n",
    "Polars의 쿼리 엔진은 벡터화된 쿼리를 실행하기 위해 Apache Arrow를 활용합니다. 열 지향 데이터 저장을 활용하여, Apache Arrow는 빠른 인메모리 처리를 위해 설계된 개발 플랫폼입니다. 이것은 Polars에 뛰어난 성능 향상을 제공하는 또 다른 풍부한 기능입니다.\n",
    "\n",
    "이러한 것들은 Polars를 매력적인 데이터 처리 라이브러리로 만드는 몇 가지 주요한 세부 사항에 불과하며, 이 튜토리얼 전반에 걸쳐 이를 실제로 확인하게 될 것입니다. 다음으로, Polars를 설치하는 방법에 대한 개요를 살펴보겠습니다.\n",
    "\n",
    "\n",
    "Polars의 또 다른 탁월한 기능은 직관적인 API입니다. 이미 pandas와 같은 라이브러리를 알고 있다면, Polars를 사용하는 데 어려움이 없을 것입니다. 이 라이브러리는 익숙하면서도 독특한 인터페이스를 제공하여 Polars로의 전환을 쉽게 만듭니다. 이는 기존의 지식과 코드베이스를 활용하면서도 Polars의 성능 향상을 이끌어낼 수 있다는 것을 의미합니다.\n",
    "\n",
    "Polars의 쿼리 엔진은 벡터화된 쿼리를 실행하기 위해 Apache Arrow를 활용합니다. 열 지향 데이터 저장을 활용하여, Apache Arrow는 빠른 인메모리 처리를 위해 설계된 개발 플랫폼입니다. 이것은 Polars에 뛰어난 성능 향상을 제공하는 또 다른 풍부한 기능입니다.\n",
    "\n",
    "이러한 것들은 Polars를 매력적인 데이터 처리 라이브러리로 만드는 몇 가지 주요한 세부 사항에 불과하며, 이 튜토리얼 전반에 걸쳐 이를 실제로 확인하게 될 것입니다. 다음으로, Polars를 설치하는 방법에 대한 개요를 살펴보겠습니다.\n",
    "\n",
    "\n",
    "# 준비하기\n",
    "\n",
    "## `Polars` 설치하기\n",
    "\n",
    "파이썬 3.7 버전 이상이 필요합니다. `conda` 혹은 `pixi` 명령어로 간단히 설치할 수 있습니다.\n",
    "\n",
    "```python\n",
    "conda install conda-forge::polars\n",
    "```\n",
    "\n",
    "## 예제 데이터\n",
    "\n",
    "[다운로드](https://data.wa.gov/api/views/f6w7-q2d2/rows.csv?accessType=DOWNLOAD)\n",
    "\n",
    "\n",
    "# Reading & writing\n",
    "\n",
    "Polars는 일반 파일 형식 (예: csv, json, parquet), 클라우드 스토리지 (S3, Azure Blob, BigQuery) 및 데이터베이스 (예: postgres, mysql)를 위한 읽기 및 쓰기를 지원합니다. 아래에서는 디스크에 읽고 쓰는 개념을 보여줍니다.\n",
    "\n",
    "# 데이터프레임, 표현식 및 컨텍스트\n",
    "\n",
    "이제 Polars를 설치했고 왜 이것이 성능이 우수한지에 대한 고수준의 이해를 가졌으므로 몇 가지 핵심 개념을 살펴보겠습니다. 이 섹션에서는 예제를 통해 데이터프레임, 표현식 및 컨텍스트를 살펴보면서 Polars 구문에 대한 첫인상을 얻게 될 것입니다. 다른 DataFrame 라이브러리를 알고 있다면 몇 가지 유사점과 차이점을 알아차릴 수 있을 것입니다.\n",
    "\n",
    "## Polars 데이터프레임 시작하기\n",
    "\n",
    "대부분의 다른 데이터 처리 라이브러리와 마찬가지로, Polars에서 사용되는 핵심 데이터 구조는 데이터프레임입니다. 데이터프레임은 행과 열로 구성된 이차원 데이터 구조입니다. 데이터프레임의 열은 시리즈로 구성되어 있으며, 시리즈는 일차원 레이블이 지정된 배열입니다.\n",
    "\n",
    "몇 줄의 코드로 Polars 데이터프레임을 생성할 수 있습니다. 다음 예제에서는 집 정보를 나타내는 임의의 데이터 사전에서 Polars 데이터프레임을 생성합니다. 이 예제를 실행하기 전에 NumPy가 설치되어 있는지 확인하세요:"
   ]
  },
  {
   "cell_type": "code",
   "execution_count": 1,
   "metadata": {},
   "outputs": [
    {
     "data": {
      "text/html": [
       "<div><style>\n",
       ".dataframe > thead > tr,\n",
       ".dataframe > tbody > tr {\n",
       "  text-align: right;\n",
       "  white-space: pre-wrap;\n",
       "}\n",
       "</style>\n",
       "<small>shape: (5, 5)</small><table border=\"1\" class=\"dataframe\"><thead><tr><th>cell_barcode</th><th>n_genes</th><th>percent_mito</th><th>n_counts</th><th>louvain_cell_types</th></tr><tr><td>str</td><td>i64</td><td>f64</td><td>f64</td><td>str</td></tr></thead><tbody><tr><td>&quot;AAACATACAACCAC…</td><td>781</td><td>0.030178</td><td>2419.0</td><td>&quot;CD4 T cells&quot;</td></tr><tr><td>&quot;AAACATTGAGCTAC…</td><td>1352</td><td>0.037936</td><td>4903.0</td><td>&quot;B cells&quot;</td></tr><tr><td>&quot;AAACATTGATCAGC…</td><td>1131</td><td>0.008897</td><td>3147.0</td><td>&quot;CD4 T cells&quot;</td></tr><tr><td>&quot;AAACCGTGCTTCCG…</td><td>960</td><td>0.017431</td><td>2639.0</td><td>&quot;CD14+ Monocyte…</td></tr><tr><td>&quot;AAACCGTGTATGCG…</td><td>522</td><td>0.012245</td><td>980.0</td><td>&quot;NK cells&quot;</td></tr></tbody></table></div>"
      ],
      "text/plain": [
       "shape: (5, 5)\n",
       "┌──────────────────┬─────────┬──────────────┬──────────┬────────────────────┐\n",
       "│ cell_barcode     ┆ n_genes ┆ percent_mito ┆ n_counts ┆ louvain_cell_types │\n",
       "│ ---              ┆ ---     ┆ ---          ┆ ---      ┆ ---                │\n",
       "│ str              ┆ i64     ┆ f64          ┆ f64      ┆ str                │\n",
       "╞══════════════════╪═════════╪══════════════╪══════════╪════════════════════╡\n",
       "│ AAACATACAACCAC-1 ┆ 781     ┆ 0.030178     ┆ 2419.0   ┆ CD4 T cells        │\n",
       "│ AAACATTGAGCTAC-1 ┆ 1352    ┆ 0.037936     ┆ 4903.0   ┆ B cells            │\n",
       "│ AAACATTGATCAGC-1 ┆ 1131    ┆ 0.008897     ┆ 3147.0   ┆ CD4 T cells        │\n",
       "│ AAACCGTGCTTCCG-1 ┆ 960     ┆ 0.017431     ┆ 2639.0   ┆ CD14+ Monocytes    │\n",
       "│ AAACCGTGTATGCG-1 ┆ 522     ┆ 0.012245     ┆ 980.0    ┆ NK cells           │\n",
       "└──────────────────┴─────────┴──────────────┴──────────┴────────────────────┘"
      ]
     },
     "execution_count": 1,
     "metadata": {},
     "output_type": "execute_result"
    }
   ],
   "source": [
    "# from datetime import datetime\n",
    "import polars as pl\n",
    "\n",
    "# df = pl.read_csv(\"../input/Electric_Vehicle_Population_Data.csv\")\n",
    "df = pl.read_csv(\"../input/pbmc3k_processed.csv\")\n",
    "\n",
    "df.head()"
   ]
  },
  {
   "cell_type": "code",
   "execution_count": 2,
   "metadata": {},
   "outputs": [
    {
     "data": {
      "text/html": [
       "<div><style>\n",
       ".dataframe > thead > tr,\n",
       ".dataframe > tbody > tr {\n",
       "  text-align: right;\n",
       "  white-space: pre-wrap;\n",
       "}\n",
       "</style>\n",
       "<small>shape: (5, 5)</small><table border=\"1\" class=\"dataframe\"><thead><tr><th>cell_barcode</th><th>n_genes</th><th>percent_mito</th><th>n_counts</th><th>cell_type</th></tr><tr><td>str</td><td>i64</td><td>f64</td><td>f64</td><td>str</td></tr></thead><tbody><tr><td>&quot;AAACATACAACCAC…</td><td>781</td><td>0.030178</td><td>2419.0</td><td>&quot;CD4 T cells&quot;</td></tr><tr><td>&quot;AAACATTGAGCTAC…</td><td>1352</td><td>0.037936</td><td>4903.0</td><td>&quot;B cells&quot;</td></tr><tr><td>&quot;AAACATTGATCAGC…</td><td>1131</td><td>0.008897</td><td>3147.0</td><td>&quot;CD4 T cells&quot;</td></tr><tr><td>&quot;AAACCGTGCTTCCG…</td><td>960</td><td>0.017431</td><td>2639.0</td><td>&quot;CD14+ Monocyte…</td></tr><tr><td>&quot;AAACCGTGTATGCG…</td><td>522</td><td>0.012245</td><td>980.0</td><td>&quot;NK cells&quot;</td></tr></tbody></table></div>"
      ],
      "text/plain": [
       "shape: (5, 5)\n",
       "┌──────────────────┬─────────┬──────────────┬──────────┬─────────────────┐\n",
       "│ cell_barcode     ┆ n_genes ┆ percent_mito ┆ n_counts ┆ cell_type       │\n",
       "│ ---              ┆ ---     ┆ ---          ┆ ---      ┆ ---             │\n",
       "│ str              ┆ i64     ┆ f64          ┆ f64      ┆ str             │\n",
       "╞══════════════════╪═════════╪══════════════╪══════════╪═════════════════╡\n",
       "│ AAACATACAACCAC-1 ┆ 781     ┆ 0.030178     ┆ 2419.0   ┆ CD4 T cells     │\n",
       "│ AAACATTGAGCTAC-1 ┆ 1352    ┆ 0.037936     ┆ 4903.0   ┆ B cells         │\n",
       "│ AAACATTGATCAGC-1 ┆ 1131    ┆ 0.008897     ┆ 3147.0   ┆ CD4 T cells     │\n",
       "│ AAACCGTGCTTCCG-1 ┆ 960     ┆ 0.017431     ┆ 2639.0   ┆ CD14+ Monocytes │\n",
       "│ AAACCGTGTATGCG-1 ┆ 522     ┆ 0.012245     ┆ 980.0    ┆ NK cells        │\n",
       "└──────────────────┴─────────┴──────────────┴──────────┴─────────────────┘"
      ]
     },
     "execution_count": 2,
     "metadata": {},
     "output_type": "execute_result"
    }
   ],
   "source": [
    "df = df.rename({\"louvain_cell_types\": \"cell_type\"})\n",
    "df.head()"
   ]
  },
  {
   "cell_type": "code",
   "execution_count": 3,
   "metadata": {},
   "outputs": [
    {
     "name": "stdout",
     "output_type": "stream",
     "text": [
      "'B cells':'', 'NK cells':'', 'Dendritic cells':'', 'CD14+ Monocytes':'', 'Megakaryocytes':'', 'CD4 T cells':'', 'FCGR3A+ Monocytes':'', 'CD8 T cells':'', "
     ]
    }
   ],
   "source": [
    "unique_type = df.select(\"cell_type\").unique()[\"cell_type\"].to_list()\n",
    "for i in unique_type:\n",
    "    print(f\"'{i}':''\", end=\", \")"
   ]
  },
  {
   "cell_type": "code",
   "execution_count": 4,
   "metadata": {},
   "outputs": [],
   "source": [
    "cell_type_dict = {\n",
    "    \"FCGR3A+ Monocytes\": \"FCGR3A+ Mono\",\n",
    "    \"B cells\": \"B cell\",\n",
    "    \"CD4 T cells\": \"CD4T\",\n",
    "    \"Dendritic cells\": \"DC\",\n",
    "    \"Megakaryocytes\": \"Megakaryocyte\",\n",
    "    \"CD14+ Monocytes\": \"CD14+ Mono\",\n",
    "    \"NK cells\": \"NK\",\n",
    "    \"CD8 T cells\": \"CD8T\",\n",
    "}\n",
    "\n",
    "df = df.with_columns(\n",
    "    pl.col(\"cell_type\").replace(cell_type_dict).alias(\"cell_type\"))"
   ]
  },
  {
   "cell_type": "code",
   "execution_count": 5,
   "metadata": {},
   "outputs": [
    {
     "data": {
      "text/html": [
       "<div><style>\n",
       ".dataframe > thead > tr,\n",
       ".dataframe > tbody > tr {\n",
       "  text-align: right;\n",
       "  white-space: pre-wrap;\n",
       "}\n",
       "</style>\n",
       "<small>shape: (5, 5)</small><table border=\"1\" class=\"dataframe\"><thead><tr><th>cell_barcode</th><th>n_genes</th><th>percent_mito</th><th>n_counts</th><th>cell_type</th></tr><tr><td>str</td><td>i64</td><td>f64</td><td>f64</td><td>str</td></tr></thead><tbody><tr><td>&quot;AAACATACAACCAC…</td><td>781</td><td>0.030178</td><td>2419.0</td><td>&quot;CD4T&quot;</td></tr><tr><td>&quot;AAACATTGAGCTAC…</td><td>1352</td><td>0.037936</td><td>4903.0</td><td>&quot;B cell&quot;</td></tr><tr><td>&quot;AAACATTGATCAGC…</td><td>1131</td><td>0.008897</td><td>3147.0</td><td>&quot;CD4T&quot;</td></tr><tr><td>&quot;AAACCGTGCTTCCG…</td><td>960</td><td>0.017431</td><td>2639.0</td><td>&quot;CD14+ Mono&quot;</td></tr><tr><td>&quot;AAACCGTGTATGCG…</td><td>522</td><td>0.012245</td><td>980.0</td><td>&quot;NK&quot;</td></tr></tbody></table></div>"
      ],
      "text/plain": [
       "shape: (5, 5)\n",
       "┌──────────────────┬─────────┬──────────────┬──────────┬────────────┐\n",
       "│ cell_barcode     ┆ n_genes ┆ percent_mito ┆ n_counts ┆ cell_type  │\n",
       "│ ---              ┆ ---     ┆ ---          ┆ ---      ┆ ---        │\n",
       "│ str              ┆ i64     ┆ f64          ┆ f64      ┆ str        │\n",
       "╞══════════════════╪═════════╪══════════════╪══════════╪════════════╡\n",
       "│ AAACATACAACCAC-1 ┆ 781     ┆ 0.030178     ┆ 2419.0   ┆ CD4T       │\n",
       "│ AAACATTGAGCTAC-1 ┆ 1352    ┆ 0.037936     ┆ 4903.0   ┆ B cell     │\n",
       "│ AAACATTGATCAGC-1 ┆ 1131    ┆ 0.008897     ┆ 3147.0   ┆ CD4T       │\n",
       "│ AAACCGTGCTTCCG-1 ┆ 960     ┆ 0.017431     ┆ 2639.0   ┆ CD14+ Mono │\n",
       "│ AAACCGTGTATGCG-1 ┆ 522     ┆ 0.012245     ┆ 980.0    ┆ NK         │\n",
       "└──────────────────┴─────────┴──────────────┴──────────┴────────────┘"
      ]
     },
     "execution_count": 5,
     "metadata": {},
     "output_type": "execute_result"
    }
   ],
   "source": [
    "df.head()"
   ]
  },
  {
   "cell_type": "markdown",
   "metadata": {},
   "source": [
    "콘솔에서 DataFrame을 호출하면 위와 같은 출력을 얻을 수 있습니다. \n",
    "문자열 표현은 먼저 DataFrame의 데이터 모양을 튜플 형태로 출력하는데, 첫 번째 항목은 행 수를, 두 번째는 DataFrame의 열 수를 나타냅니다.\n",
    "\n",
    "그런 다음 데이터의 열 이름과 데이터 유형이 표시되는 데이터의 테이블 미리보기가 나타납니다. 예를 들어, year는 float64 유형이고, building_type은 str 유형입니다. Polars는 주로 Arrow의 구현을 기반으로 하는 다양한 데이터 유형을 지원합니다.\n",
    "\n",
    "Polars DataFrame에는 기본 데이터를 탐색하는 데 유용한 많은 메서드와 속성이 있습니다. 만약 pandas에 익숙하다면, Polars DataFrame은 주로 동일한 네이밍 컨벤션을 사용한다는 것을 알 수 있을 것입니다. 이전 예제에서 생성한 DataFrame에서 일부 메서드와 속성을 확인할 수 있습니다:"
   ]
  },
  {
   "cell_type": "code",
   "execution_count": 6,
   "metadata": {},
   "outputs": [
    {
     "data": {
      "text/plain": [
       "OrderedDict([('cell_barcode', String),\n",
       "             ('n_genes', Int64),\n",
       "             ('percent_mito', Float64),\n",
       "             ('n_counts', Float64),\n",
       "             ('cell_type', String)])"
      ]
     },
     "execution_count": 6,
     "metadata": {},
     "output_type": "execute_result"
    }
   ],
   "source": [
    "df.schema"
   ]
  },
  {
   "cell_type": "markdown",
   "metadata": {},
   "source": [
    "우선 df.schema로 DataFrame의 스키마를 확인합니다. Polars 스키마는 DataFrame의 각 열의 데이터 유형을 알려주는 사전이며, 이후에 탐색할 레이지 API에 필요합니다.\n",
    "\n",
    "다음으로 df.head()를 사용하여 DataFrame의 처음 다섯 개 행을 미리볼 수 있습니다. .head()에는 원하는 상위 행 수에 대한 정수를 전달할 수 있으며, 기본적으로 행 수는 다섯 개입니다. Polars DataFrame에는 또한 .tail() 메서드가 있어 하단 행을 볼 수 있습니다.\n",
    "\n",
    "마지막으로 df.describe()를 호출하여 DataFrame의 각 열에 대한 요약 통계를 얻습니다. 이것은 작업 중인 데이터 집합의 특성을 빠르게 파악하는 가장 좋은 방법 중 하나입니다. .describe()에서 반환되는 각 행의 의미는 다음과 같습니다:"
   ]
  },
  {
   "cell_type": "code",
   "execution_count": 7,
   "metadata": {},
   "outputs": [
    {
     "data": {
      "text/html": [
       "<div><style>\n",
       ".dataframe > thead > tr,\n",
       ".dataframe > tbody > tr {\n",
       "  text-align: right;\n",
       "  white-space: pre-wrap;\n",
       "}\n",
       "</style>\n",
       "<small>shape: (9, 6)</small><table border=\"1\" class=\"dataframe\"><thead><tr><th>statistic</th><th>cell_barcode</th><th>n_genes</th><th>percent_mito</th><th>n_counts</th><th>cell_type</th></tr><tr><td>str</td><td>str</td><td>f64</td><td>f64</td><td>f64</td><td>str</td></tr></thead><tbody><tr><td>&quot;count&quot;</td><td>&quot;2638&quot;</td><td>2638.0</td><td>2638.0</td><td>2638.0</td><td>&quot;2638&quot;</td></tr><tr><td>&quot;null_count&quot;</td><td>&quot;0&quot;</td><td>0.0</td><td>0.0</td><td>0.0</td><td>&quot;0&quot;</td></tr><tr><td>&quot;mean&quot;</td><td>null</td><td>850.086808</td><td>0.021166</td><td>2371.068992</td><td>null</td></tr><tr><td>&quot;std&quot;</td><td>null</td><td>263.373564</td><td>0.008431</td><td>990.15877</td><td>null</td></tr><tr><td>&quot;min&quot;</td><td>&quot;AAACATACAACCAC…</td><td>212.0</td><td>0.0</td><td>556.0</td><td>&quot;B cell&quot;</td></tr><tr><td>&quot;25%&quot;</td><td>null</td><td>700.0</td><td>0.015201</td><td>1779.0</td><td>null</td></tr><tr><td>&quot;50%&quot;</td><td>null</td><td>820.0</td><td>0.020111</td><td>2213.0</td><td>null</td></tr><tr><td>&quot;75%&quot;</td><td>null</td><td>956.0</td><td>0.025911</td><td>2767.0</td><td>null</td></tr><tr><td>&quot;max&quot;</td><td>&quot;TTTGCATGCCTCAC…</td><td>2455.0</td><td>0.049938</td><td>8875.0</td><td>&quot;NK&quot;</td></tr></tbody></table></div>"
      ],
      "text/plain": [
       "shape: (9, 6)\n",
       "┌────────────┬──────────────────┬────────────┬──────────────┬─────────────┬───────────┐\n",
       "│ statistic  ┆ cell_barcode     ┆ n_genes    ┆ percent_mito ┆ n_counts    ┆ cell_type │\n",
       "│ ---        ┆ ---              ┆ ---        ┆ ---          ┆ ---         ┆ ---       │\n",
       "│ str        ┆ str              ┆ f64        ┆ f64          ┆ f64         ┆ str       │\n",
       "╞════════════╪══════════════════╪════════════╪══════════════╪═════════════╪═══════════╡\n",
       "│ count      ┆ 2638             ┆ 2638.0     ┆ 2638.0       ┆ 2638.0      ┆ 2638      │\n",
       "│ null_count ┆ 0                ┆ 0.0        ┆ 0.0          ┆ 0.0         ┆ 0         │\n",
       "│ mean       ┆ null             ┆ 850.086808 ┆ 0.021166     ┆ 2371.068992 ┆ null      │\n",
       "│ std        ┆ null             ┆ 263.373564 ┆ 0.008431     ┆ 990.15877   ┆ null      │\n",
       "│ min        ┆ AAACATACAACCAC-1 ┆ 212.0      ┆ 0.0          ┆ 556.0       ┆ B cell    │\n",
       "│ 25%        ┆ null             ┆ 700.0      ┆ 0.015201     ┆ 1779.0      ┆ null      │\n",
       "│ 50%        ┆ null             ┆ 820.0      ┆ 0.020111     ┆ 2213.0      ┆ null      │\n",
       "│ 75%        ┆ null             ┆ 956.0      ┆ 0.025911     ┆ 2767.0      ┆ null      │\n",
       "│ max        ┆ TTTGCATGCCTCAC-1 ┆ 2455.0     ┆ 0.049938     ┆ 8875.0      ┆ NK        │\n",
       "└────────────┴──────────────────┴────────────┴──────────────┴─────────────┴───────────┘"
      ]
     },
     "execution_count": 7,
     "metadata": {},
     "output_type": "execute_result"
    }
   ],
   "source": [
    "df.describe()"
   ]
  },
  {
   "cell_type": "markdown",
   "metadata": {},
   "source": [
    "마지막으로 df.describe()를 호출하여 DataFrame의 각 열에 대한 요약 통계를 얻습니다. 이것은 작업 중인 데이터 집합의 특성을 빠르게 파악하는 가장 좋은 방법 중 하나입니다. .describe()에서 반환되는 각 행의 의미는 다음과 같습니다:\n",
    "\n",
    "- count는 데이터 집합의 관측치 또는 행 수입니다.\n",
    "- null_count는 열에서 누락된 값의 수입니다.\n",
    "- mean은 열의 산술 평균 또는 평균입니다.\n",
    "- std는 열의 표준 편차입니다.\n",
    "- min은 열의 최소값입니다.\n",
    "- max는 열의 최대값입니다.\n",
    "- median은 열의 중간값 또는 50번째 백분위수입니다.\n",
    "- 25%는 열의 25번째 백분위수 또는 첫 번째 사분위수입니다.\n",
    "- 75%는 열의 75번째 백분위수 또는 세 번째 사분위수입니다.\n",
    "\n",
    "예를 들어, 데이터의 평균 연도는 2008년과 2009년 사이에 있으며, 표준 편차는 약 8년입니다. building_type 열은 문자열로 표현되는 범주형 값으로 구성되어 대부분의 요약 통계가 누락되었습니다.\n",
    "\n",
    "이제 Polars DataFrames를 생성하고 상호 작용하는 기본 사항을 살펴보았으므로, 보다 정교한 쿼리를 시도하고 라이브러리의 능력을 파악할 수 있습니다. 이를 위해 다음 섹션에서는 컨텍스트 및 표현식을 이해해야 합니다.\n",
    "\n",
    "# 표현식\n",
    "\n",
    "Polars의 컨텍스트와 표현식은 Polars의 독특한 데이터 변환 구문의 핵심 구성 요소입니다. 표현식은 데이터 열에 수행되는 계산 또는 변환을 의미하며, 데이터에 다양한 작업을 적용하여 새로운 결과를 도출할 수 있습니다. 표현식에는 수학 연산, 집계, 비교, 문자열 조작 등이 포함됩니다.\n",
    "\n",
    "컨텍스트는 표현식이 평가되는 특정 환경이나 상황을 나타냅니다. 다시 말해, 컨텍스트는 데이터에 수행하려는 기본 작업입니다. Polars에는 세 가지 주요 컨텍스트가 있습니다:\n",
    "\n",
    "- 선택(Selection): DataFrame에서 열을 선택하는 작업\n",
    "- 필터링(Filtering): 지정된 조건을 충족하는 행을 추출하여 DataFrame의 크기를 줄이는 작업\n",
    "- 그룹화/집계(Groupby/aggregation): 데이터의 하위 그룹 내에서 요약 통계를 계산하는 작업\n",
    "\n",
    "컨텍스트는 동사로, 표현식은 명사로 생각할 수 있습니다. 컨텍스트는 표현식이 어떻게 평가되고 실행되는지를 결정하며, 마찬가지로 언어에서 동사가 명사가 수행하는 동작을 결정합니다. 표현식과 컨텍스트를 사용하여 작업을 시작하려면 이전에 생성한 무작위로 생성된 데이터를 사용하십시오. \n",
    "\n",
    "\n",
    "이제 표현식과 컨텍스트를 사용하여 시작할 준비가 되었습니다. Polars의 세 가지 주요 컨텍스트 안에는 많은 종류의 표현식이 있으며, 여러 표현식을 연결하여 임의로 복잡한 쿼리를 실행할 수 있습니다. 이러한 아이디어를 더 잘 이해하기 위해 select 컨텍스트의 예를 살펴보겠습니다:\n"
   ]
  },
  {
   "cell_type": "code",
   "execution_count": 8,
   "metadata": {},
   "outputs": [
    {
     "data": {
      "text/html": [
       "<div><style>\n",
       ".dataframe > thead > tr,\n",
       ".dataframe > tbody > tr {\n",
       "  text-align: right;\n",
       "  white-space: pre-wrap;\n",
       "}\n",
       "</style>\n",
       "<small>shape: (2_638, 1)</small><table border=\"1\" class=\"dataframe\"><thead><tr><th>cell_type</th></tr><tr><td>str</td></tr></thead><tbody><tr><td>&quot;CD4T&quot;</td></tr><tr><td>&quot;B cell&quot;</td></tr><tr><td>&quot;CD4T&quot;</td></tr><tr><td>&quot;CD14+ Mono&quot;</td></tr><tr><td>&quot;NK&quot;</td></tr><tr><td>&hellip;</td></tr><tr><td>&quot;CD14+ Mono&quot;</td></tr><tr><td>&quot;B cell&quot;</td></tr><tr><td>&quot;B cell&quot;</td></tr><tr><td>&quot;B cell&quot;</td></tr><tr><td>&quot;CD4T&quot;</td></tr></tbody></table></div>"
      ],
      "text/plain": [
       "shape: (2_638, 1)\n",
       "┌────────────┐\n",
       "│ cell_type  │\n",
       "│ ---        │\n",
       "│ str        │\n",
       "╞════════════╡\n",
       "│ CD4T       │\n",
       "│ B cell     │\n",
       "│ CD4T       │\n",
       "│ CD14+ Mono │\n",
       "│ NK         │\n",
       "│ …          │\n",
       "│ CD14+ Mono │\n",
       "│ B cell     │\n",
       "│ B cell     │\n",
       "│ B cell     │\n",
       "│ CD4T       │\n",
       "└────────────┘"
      ]
     },
     "execution_count": 8,
     "metadata": {},
     "output_type": "execute_result"
    }
   ],
   "source": [
    "df.select(\"cell_type\")"
   ]
  },
  {
   "cell_type": "code",
   "execution_count": 9,
   "metadata": {},
   "outputs": [
    {
     "data": {
      "text/html": [
       "<div><style>\n",
       ".dataframe > thead > tr,\n",
       ".dataframe > tbody > tr {\n",
       "  text-align: right;\n",
       "  white-space: pre-wrap;\n",
       "}\n",
       "</style>\n",
       "<small>shape: (2_638, 5)</small><table border=\"1\" class=\"dataframe\"><thead><tr><th>cell_barcode</th><th>n_genes</th><th>percent_mito</th><th>n_counts</th><th>cell_type</th></tr><tr><td>str</td><td>i64</td><td>f64</td><td>f64</td><td>str</td></tr></thead><tbody><tr><td>&quot;ACGAACTGGCTATG…</td><td>2455</td><td>0.015775</td><td>8875.0</td><td>&quot;Megakaryocyte&quot;</td></tr><tr><td>&quot;GGGCCAACCTTGGA…</td><td>2020</td><td>0.010576</td><td>8415.0</td><td>&quot;DC&quot;</td></tr><tr><td>&quot;CAGGTTGAGGATCT…</td><td>2000</td><td>0.026963</td><td>8011.0</td><td>&quot;B cell&quot;</td></tr><tr><td>&quot;ACGAGGGACAGGAG…</td><td>1997</td><td>0.014632</td><td>7928.0</td><td>&quot;DC&quot;</td></tr><tr><td>&quot;CATACTTGGGTTAC…</td><td>1938</td><td>0.02358</td><td>7167.0</td><td>&quot;CD4T&quot;</td></tr><tr><td>&hellip;</td><td>&hellip;</td><td>&hellip;</td><td>&hellip;</td><td>&hellip;</td></tr><tr><td>&quot;GGCATATGGGGAGT…</td><td>212</td><td>0.012174</td><td>575.0</td><td>&quot;Megakaryocyte&quot;</td></tr><tr><td>&quot;GGATGTACGTCTTT…</td><td>314</td><td>0.030249</td><td>562.0</td><td>&quot;CD14+ Mono&quot;</td></tr><tr><td>&quot;CACCCATGTTCTGT…</td><td>333</td><td>0.044563</td><td>561.0</td><td>&quot;CD4T&quot;</td></tr><tr><td>&quot;GAAATACTACCAAC…</td><td>283</td><td>0.016043</td><td>561.0</td><td>&quot;CD14+ Mono&quot;</td></tr><tr><td>&quot;ACCCACTGGTTCAG…</td><td>350</td><td>0.01259</td><td>556.0</td><td>&quot;Megakaryocyte&quot;</td></tr></tbody></table></div>"
      ],
      "text/plain": [
       "shape: (2_638, 5)\n",
       "┌──────────────────┬─────────┬──────────────┬──────────┬───────────────┐\n",
       "│ cell_barcode     ┆ n_genes ┆ percent_mito ┆ n_counts ┆ cell_type     │\n",
       "│ ---              ┆ ---     ┆ ---          ┆ ---      ┆ ---           │\n",
       "│ str              ┆ i64     ┆ f64          ┆ f64      ┆ str           │\n",
       "╞══════════════════╪═════════╪══════════════╪══════════╪═══════════════╡\n",
       "│ ACGAACTGGCTATG-1 ┆ 2455    ┆ 0.015775     ┆ 8875.0   ┆ Megakaryocyte │\n",
       "│ GGGCCAACCTTGGA-1 ┆ 2020    ┆ 0.010576     ┆ 8415.0   ┆ DC            │\n",
       "│ CAGGTTGAGGATCT-1 ┆ 2000    ┆ 0.026963     ┆ 8011.0   ┆ B cell        │\n",
       "│ ACGAGGGACAGGAG-1 ┆ 1997    ┆ 0.014632     ┆ 7928.0   ┆ DC            │\n",
       "│ CATACTTGGGTTAC-1 ┆ 1938    ┆ 0.02358      ┆ 7167.0   ┆ CD4T          │\n",
       "│ …                ┆ …       ┆ …            ┆ …        ┆ …             │\n",
       "│ GGCATATGGGGAGT-1 ┆ 212     ┆ 0.012174     ┆ 575.0    ┆ Megakaryocyte │\n",
       "│ GGATGTACGTCTTT-1 ┆ 314     ┆ 0.030249     ┆ 562.0    ┆ CD14+ Mono    │\n",
       "│ CACCCATGTTCTGT-1 ┆ 333     ┆ 0.044563     ┆ 561.0    ┆ CD4T          │\n",
       "│ GAAATACTACCAAC-1 ┆ 283     ┆ 0.016043     ┆ 561.0    ┆ CD14+ Mono    │\n",
       "│ ACCCACTGGTTCAG-1 ┆ 350     ┆ 0.01259      ┆ 556.0    ┆ Megakaryocyte │\n",
       "└──────────────────┴─────────┴──────────────┴──────────┴───────────────┘"
      ]
     },
     "execution_count": 9,
     "metadata": {},
     "output_type": "execute_result"
    }
   ],
   "source": [
    "# df.select(pl.col(\"n_counts\").sort())\n",
    "df.sort(\"n_counts\", descending=True)"
   ]
  },
  {
   "cell_type": "markdown",
   "metadata": {},
   "source": [
    "# Polars의 컨텍스트와 표현식\n",
    "\n",
    "컨텍스트와 표현식은 폴라스의 독특한 데이터 변환 구문의 핵심 요소입니다. 표현식은 데이터 열에 대해 수행되는 계산이나 변환을 참조하며, 데이터에 다양한 작업을 적용하여 새로운 결과를 도출할 수 있습니다. 표현식에는 수학적 연산, 집계, 비교, 문자열 조작 등이 포함됩니다.\n",
    "\n",
    "컨텍스트는 표현식이 평가되는 특정 환경 또는 상황을 나타냅니다. 다시 말해, 컨텍스트는 데이터에 수행하려는 기본 작업입니다. 폴라스에는 세 가지 주요 컨텍스트가 있습니다:\n",
    "\n",
    "선택: DataFrame에서 열을 선택합니다.\n",
    "필터링: 지정된 조건을 충족하는 행을 추출하여 DataFrame의 크기를 줄입니다.\n",
    "Groupby/집계: 데이터 하위 그룹 내에서 요약 통계를 계산합니다.\n",
    "컨텍스트를 동사로, 표현식을 명사로 생각할 수 있습니다. 컨텍스트는 표현식이 어떻게 평가되고 실행되는지 결정하며, 마치 동사가 언어에서 명사가 수행하는 동작을 결정하는 것과 같습니다. 표현식과 컨텍스트를 사용하여 작업을 시작하려면 이전과 동일한 임의로 생성된 데이터를 사용합니다.\n",
    "\n",
    "\n",
    "위와 같이, 이 자주 사용하는 컨텍스트 중 하나는 `.filter()`입니다. 이름에서 알 수 있듯이 .filter()는 주어진 표현식에 따라 데이터의 크기를 줄입니다. 예를 들어, 300개 이하의 데이터를 필터링하려면 다음을 실행할 수 있습니다:"
   ]
  },
  {
   "cell_type": "code",
   "execution_count": 10,
   "metadata": {},
   "outputs": [
    {
     "data": {
      "text/plain": [
       "(10, 5)"
      ]
     },
     "execution_count": 10,
     "metadata": {},
     "output_type": "execute_result"
    }
   ],
   "source": [
    "under_300 = df.filter(pl.col(\"n_genes\") < 300)\n",
    "under_300.shape"
   ]
  },
  {
   "cell_type": "code",
   "execution_count": 11,
   "metadata": {},
   "outputs": [
    {
     "data": {
      "text/html": [
       "<div><style>\n",
       ".dataframe > thead > tr,\n",
       ".dataframe > tbody > tr {\n",
       "  text-align: right;\n",
       "  white-space: pre-wrap;\n",
       "}\n",
       "</style>\n",
       "<small>shape: (1, 1)</small><table border=\"1\" class=\"dataframe\"><thead><tr><th>n_genes</th></tr><tr><td>i64</td></tr></thead><tbody><tr><td>212</td></tr></tbody></table></div>"
      ],
      "text/plain": [
       "shape: (1, 1)\n",
       "┌─────────┐\n",
       "│ n_genes │\n",
       "│ ---     │\n",
       "│ i64     │\n",
       "╞═════════╡\n",
       "│ 212     │\n",
       "└─────────┘"
      ]
     },
     "execution_count": 11,
     "metadata": {},
     "output_type": "execute_result"
    }
   ],
   "source": [
    "under_300.select(pl.col(\"n_genes\").min())"
   ]
  },
  {
   "cell_type": "markdown",
   "metadata": {},
   "source": [
    ".pl.col(\"n_genes\") <> 300를 .filter()에 전달하면 300개 미만의 데이터가 포함된 DataFrame이 반환됩니다. 이를 확인할 수 있습니다. after_2015에는 원래 5000개의 행 중 1230개만 있으며, after_2015의 최소 연도는 2016입니다.\n",
    "\n",
    "Polars에서 더 널리 사용되는 컨텍스트 중 하나는 groupby 컨텍스트 또는 집계입니다. 이는 데이터의 하위 그룹 내에서 요약 통계를 계산하는 데 유용합니다. 건물 데이터 예제에서 각 건물 유형에 대해 평균 평방 피트, 중앙값 건설 연도 및 건물 수를 알고 싶다고 가정해 보겠습니다. 다음 쿼리는 이 작업을 수행합니다:"
   ]
  },
  {
   "cell_type": "code",
   "execution_count": 12,
   "metadata": {},
   "outputs": [
    {
     "data": {
      "text/html": [
       "<div><style>\n",
       ".dataframe > thead > tr,\n",
       ".dataframe > tbody > tr {\n",
       "  text-align: right;\n",
       "  white-space: pre-wrap;\n",
       "}\n",
       "</style>\n",
       "<small>shape: (8, 4)</small><table border=\"1\" class=\"dataframe\"><thead><tr><th>cell_type</th><th>mean_n_genes</th><th>median_percent_mito</th><th>count</th></tr><tr><td>str</td><td>f64</td><td>f64</td><td>u32</td></tr></thead><tbody><tr><td>&quot;CD14+ Mono&quot;</td><td>866.739583</td><td>0.022108</td><td>480</td></tr><tr><td>&quot;CD8T&quot;</td><td>837.620253</td><td>0.022154</td><td>316</td></tr><tr><td>&quot;Megakaryocyte&quot;</td><td>577.266667</td><td>0.027601</td><td>15</td></tr><tr><td>&quot;CD4T&quot;</td><td>810.340909</td><td>0.017713</td><td>1144</td></tr><tr><td>&quot;NK&quot;</td><td>905.480519</td><td>0.019383</td><td>154</td></tr><tr><td>&quot;B cell&quot;</td><td>725.368421</td><td>0.020492</td><td>342</td></tr><tr><td>&quot;FCGR3A+ Mono&quot;</td><td>1228.813333</td><td>0.024359</td><td>150</td></tr><tr><td>&quot;DC&quot;</td><td>1466.891892</td><td>0.02116</td><td>37</td></tr></tbody></table></div>"
      ],
      "text/plain": [
       "shape: (8, 4)\n",
       "┌───────────────┬──────────────┬─────────────────────┬───────┐\n",
       "│ cell_type     ┆ mean_n_genes ┆ median_percent_mito ┆ count │\n",
       "│ ---           ┆ ---          ┆ ---                 ┆ ---   │\n",
       "│ str           ┆ f64          ┆ f64                 ┆ u32   │\n",
       "╞═══════════════╪══════════════╪═════════════════════╪═══════╡\n",
       "│ CD14+ Mono    ┆ 866.739583   ┆ 0.022108            ┆ 480   │\n",
       "│ CD8T          ┆ 837.620253   ┆ 0.022154            ┆ 316   │\n",
       "│ Megakaryocyte ┆ 577.266667   ┆ 0.027601            ┆ 15    │\n",
       "│ CD4T          ┆ 810.340909   ┆ 0.017713            ┆ 1144  │\n",
       "│ NK            ┆ 905.480519   ┆ 0.019383            ┆ 154   │\n",
       "│ B cell        ┆ 725.368421   ┆ 0.020492            ┆ 342   │\n",
       "│ FCGR3A+ Mono  ┆ 1228.813333  ┆ 0.024359            ┆ 150   │\n",
       "│ DC            ┆ 1466.891892  ┆ 0.02116             ┆ 37    │\n",
       "└───────────────┴──────────────┴─────────────────────┴───────┘"
      ]
     },
     "execution_count": 12,
     "metadata": {},
     "output_type": "execute_result"
    }
   ],
   "source": [
    "df.group_by(\"cell_type\").agg(\n",
    "    [\n",
    "        pl.mean(\"n_genes\").alias(\"mean_n_genes\"),\n",
    "        pl.median(\"percent_mito\").alias(\"median_percent_mito\"),\n",
    "        pl.len().alias(\"count\"),\n",
    "    ]\n",
    ")"
   ]
  },
  {
   "cell_type": "markdown",
   "metadata": {},
   "source": [
    "이 예에서는 먼저 df.groupby(\"cell_type\")을 호출하여 Polars GroupBy 객체를 생성합니다. GroupBy 객체에는 각 그룹에 대해 계산되는 표현식 목록을 허용하는 .agg()라는 집계 메서드가 있습니다. 예를 들어, pl.mean(\"sqft\")는 각 건물 유형에 대한 평균 평방 피트를 계산하고, pl.count()는 각 건물 유형의 건물 수를 반환합니다. .alias()를 사용하여 집계된 열에 이름을 지정합니다.\n",
    "\n",
    "고수준의 Python API에서는 명확하지 않지만, 모든 Polars 표현식은 내부적으로 최적화되어 병렬로 실행됩니다. 이는 Polars 표현식이 항상 지정된 순서대로 실행되지 않으며, 반드시 단일 코어에서 실행되지 않는다는 것을 의미합니다. 대신, Polars는 쿼리에서 표현식이 평가되는 순서를 최적화하고, 작업이 사용 가능한 코어에 분산됩니다. 나중에 최적화된 쿼리의 예제를 볼 것입니다.\n",
    "\n",
    "이제 Polars 컨텍스트와 표현식에 대한 이해와 표현식이 왜 빠르게 평가되는지에 대한 통찰력을 갖게 되었으므로, 더 깊이 파고들 수 있는 또 다른 강력한 Polars 기능, 지연 API에 대해 더 자세히 살펴보겠습니다. 지연 API를 사용하면 Polars가 메모리 효율을 유지하면서 대규모 데이터 집합에서 복잡한 표현식을 평가하는 방법을 살펴볼 수 있습니다."
   ]
  },
  {
   "cell_type": "markdown",
   "metadata": {},
   "source": [
    "# 지연 API\n",
    "Polars의 지연 API는 라이브러리의 가장 강력한 기능 중 하나입니다. 지연 API를 사용하면 연산의 시퀀스를 즉시 실행하지 않고 지정할 수 있습니다. 대신, 이러한 작업은 계산 그래프로 저장되며 필요할 때만 실행됩니다. 이를 통해 Polars는 실행 전에 쿼리를 최적화하고 데이터가 처리되기 전에 스키마 오류를 잡고 메모리에 맞지 않는 데이터 세트에 대한 메모리 효율적인 쿼리를 수행할 수 있습니다.\n",
    "\n",
    "LazyFrame으로 작업하기\n",
    "지연 API 내에서 핵심 객체는 LazyFrame이며, LazyFrame은 몇 가지 다른 방법으로 생성할 수 있습니다. LazyFrames와 지연 API를 시작하려면 다음 예제를 살펴보세요:"
   ]
  },
  {
   "cell_type": "code",
   "execution_count": 13,
   "metadata": {},
   "outputs": [
    {
     "data": {
      "text/html": [
       "<i>naive plan: (run <b>LazyFrame.explain(optimized=True)</b> to see the optimized plan)</i>\n",
       "    <p></p>\n",
       "    <div>DF [\"cell_barcode\", \"n_genes\", \"percent_mito\", \"n_counts\"]; PROJECT */5 COLUMNS; SELECTION: \"None\"</div>"
      ],
      "text/plain": [
       "<LazyFrame [5 cols, {\"cell_barcode\": String … \"cell_type\": String}] at 0x10A5F1850>"
      ]
     },
     "execution_count": 13,
     "metadata": {},
     "output_type": "execute_result"
    }
   ],
   "source": [
    "df_lazy = pl.LazyFrame(df)\n",
    "df_lazy"
   ]
  },
  {
   "cell_type": "code",
   "execution_count": 14,
   "metadata": {},
   "outputs": [
    {
     "data": {
      "text/html": [
       "<i>naive plan: (run <b>LazyFrame.explain(optimized=True)</b> to see the optimized plan)</i>\n",
       "    <p></p>\n",
       "    <div>FILTER [(col(\"percent_mito\")) < (0.02)] FROM<p></p>FILTER [(col(\"gene_per_counts\")) > (0.5)] FROM<p></p> WITH_COLUMNS:<p></p> [[(col(\"n_genes\")) / (col(\"n_counts\"))].alias(\"gene_per_counts\")]<p></p>  DF [\"cell_barcode\", \"n_genes\", \"percent_mito\", \"n_counts\"]; PROJECT */5 COLUMNS; SELECTION: \"None\"</div>"
      ],
      "text/plain": [
       "<LazyFrame [6 cols, {\"cell_barcode\": String … \"gene_per_counts\": Float64}] at 0x10A5F14F0>"
      ]
     },
     "execution_count": 14,
     "metadata": {},
     "output_type": "execute_result"
    }
   ],
   "source": [
    "lazy_query = (\n",
    "     df_lazy\n",
    "     .with_columns(\n",
    "         (pl.col(\"n_genes\") / pl.col(\"n_counts\")).alias(\"gene_per_counts\")\n",
    "     )\n",
    "     .filter(pl.col(\"gene_per_counts\") > 0.5)\n",
    "     .filter(pl.col(\"percent_mito\") < 0.02)\n",
    "  )\n",
    "lazy_query"
   ]
  },
  {
   "cell_type": "markdown",
   "metadata": {},
   "source": [
    "이 쿼리에서는 각 건물의 제곱 피트당 가격을 계산하고 price_per_sqft라는 이름을 할당합니다. 그런 다음 가격이 100보다 크고 연도가 2010보다 작은 모든 건물의 데이터를 필터링합니다. 지연된 쿼리가 실제로 쿼리를 실행하는 대신 다른 LazyFrame을 반환한다는 것을 알아챘을 것입니다. 이것이 지연 API의 아이디어입니다. 명시적으로 호출할 때만 쿼리를 실행합니다.\n",
    "\n",
    "쿼리를 실행하기 전에 쿼리 계획을 검토할 수 있습니다. 쿼리 계획은 쿼리가 트리거하는 단계의 시퀀스를 알려줍니다. LazyFrame 쿼리 계획을 시각적으로 보려면 다음 코드를 실행할 수 있습니다:"
   ]
  },
  {
   "cell_type": "code",
   "execution_count": 15,
   "metadata": {},
   "outputs": [
    {
     "name": "stdout",
     "output_type": "stream",
     "text": [
      "FILTER [(col(\"gene_per_counts\")) > (0.5)] FROM\n",
      " WITH_COLUMNS:\n",
      " [[(col(\"n_genes\").cast(Float64)) / (col(\"n_counts\"))].alias(\"gene_per_counts\")]\n",
      "  DF [\"cell_barcode\", \"n_genes\", \"percent_mito\", \"n_counts\"]; PROJECT */5 COLUMNS; SELECTION: \"[(col(\\\"percent_mito\\\")) < (0.02)]\"\n"
     ]
    }
   ],
   "source": [
    "print(lazy_query.explain())"
   ]
  },
  {
   "cell_type": "markdown",
   "metadata": {},
   "source": [
    "LazyFrame의 .explain() 출력을 인쇄하면 쿼리 계획의 문자열 표현이 반환됩니다. 그래픽 쿼리 계획과 마찬가지로 문자열 쿼리 계획은 아래에서 위로 읽으며 각 단계는 자체 줄에 표시됩니다.\n",
    "\n",
    "만약 print() 없이 lazy_query.explain()를 호출하면 쿼리 계획의 문자열 표현이 표시됩니다. 일반적으로 새 줄은 문자열에서 \\n으로 나타나므로 계획을 읽기가 더 어려울 수 있습니다. 다시 말하지만, 그래픽 표현에 포함되지 않은 쿼리 계획에 대한 보다 자세한 설명이 필요할 때 .explain()을 사용해야 합니다.\n",
    "\n",
    "지연 쿼리가 무엇을 수행할지 이해한 후 실제로 실행할 준비가 되었습니다. 이를 위해 지연 쿼리에 대해 .collect()를 호출하여 쿼리 계획에 따라 평가합니다. 다음은 이를 실행하는 방법입니다:"
   ]
  },
  {
   "cell_type": "code",
   "execution_count": 16,
   "metadata": {},
   "outputs": [
    {
     "data": {
      "text/html": [
       "<div><style>\n",
       ".dataframe > thead > tr,\n",
       ".dataframe > tbody > tr {\n",
       "  text-align: right;\n",
       "  white-space: pre-wrap;\n",
       "}\n",
       "</style>\n",
       "<small>shape: (43, 2)</small><table border=\"1\" class=\"dataframe\"><thead><tr><th>cell_type</th><th>n_genes</th></tr><tr><td>str</td><td>i64</td></tr></thead><tbody><tr><td>&quot;NK&quot;</td><td>522</td></tr><tr><td>&quot;CD4T&quot;</td><td>397</td></tr><tr><td>&quot;B cell&quot;</td><td>563</td></tr><tr><td>&quot;NK&quot;</td><td>862</td></tr><tr><td>&quot;B cell&quot;</td><td>341</td></tr><tr><td>&hellip;</td><td>&hellip;</td></tr><tr><td>&quot;CD14+ Mono&quot;</td><td>365</td></tr><tr><td>&quot;NK&quot;</td><td>628</td></tr><tr><td>&quot;FCGR3A+ Mono&quot;</td><td>395</td></tr><tr><td>&quot;CD14+ Mono&quot;</td><td>536</td></tr><tr><td>&quot;NK&quot;</td><td>486</td></tr></tbody></table></div>"
      ],
      "text/plain": [
       "shape: (43, 2)\n",
       "┌──────────────┬─────────┐\n",
       "│ cell_type    ┆ n_genes │\n",
       "│ ---          ┆ ---     │\n",
       "│ str          ┆ i64     │\n",
       "╞══════════════╪═════════╡\n",
       "│ NK           ┆ 522     │\n",
       "│ CD4T         ┆ 397     │\n",
       "│ B cell       ┆ 563     │\n",
       "│ NK           ┆ 862     │\n",
       "│ B cell       ┆ 341     │\n",
       "│ …            ┆ …       │\n",
       "│ CD14+ Mono   ┆ 365     │\n",
       "│ NK           ┆ 628     │\n",
       "│ FCGR3A+ Mono ┆ 395     │\n",
       "│ CD14+ Mono   ┆ 536     │\n",
       "│ NK           ┆ 486     │\n",
       "└──────────────┴─────────┘"
      ]
     },
     "execution_count": 16,
     "metadata": {},
     "output_type": "execute_result"
    }
   ],
   "source": [
    "(\n",
    "     lazy_query\n",
    "     .collect()\n",
    "     .select(pl.col([\"cell_type\", \"n_genes\"]))\n",
    ")"
   ]
  },
  {
   "cell_type": "markdown",
   "metadata": {},
   "source": [
    "지연 쿼리를 .collect()로 실행하면 결과로 일반적인 Polars DataFrame이 반환됩니다. 필터링 기준 때문에 원래 5000개 행 중 1317개만 얻습니다. 또한 표시된 모든 price_per_sqft 및 year 값이 각각 100보다 크고 2010보다 작음을 알 수 있습니다. 데이터가 올바르게 필터링되었는지 추가로 확인하기 위해 요약 통계를 살펴볼 수 있습니다:"
   ]
  },
  {
   "cell_type": "markdown",
   "metadata": {},
   "source": [
    "# Seemless 통합\n",
    "\n",
    "많은 사용 사례에서 Polars는 현재 사용 중인 데이터 처리 라이브러리를 대체할 수 있습니다. 이 섹션에서는 Polars가 다양한 데이터 소스 및 라이브러리와 잘 통합되어 있는 유연성을 예제를 통해 살펴보겠습니다.\n",
    "\n",
    "Polars는 기존의 Python 라이브러리와 원활하게 통합됩니다. 이 기능은 기존 코드에 Polars를 쉽게 삽입할 수 있게 해주므로 종속성을 변경하거나 큰 리팩터링을 할 필요가 없습니다. 다음 예제에서는 Polars DataFrames가 NumPy 배열과 pandas DataFrames 사이를 원활하게 변환되는 것을 볼 수 있습니다."
   ]
  },
  {
   "cell_type": "code",
   "execution_count": 22,
   "metadata": {},
   "outputs": [
    {
     "data": {
      "text/plain": [
       "pandas.core.frame.DataFrame"
      ]
     },
     "execution_count": 22,
     "metadata": {},
     "output_type": "execute_result"
    }
   ],
   "source": [
    "df2 = df.to_pandas()\n",
    "type(df2)"
   ]
  },
  {
   "cell_type": "markdown",
   "metadata": {},
   "source": [
    "Polars DataFrame를 pandas DataFrame과 NumPy 배열로 변환하기 위해 .to_pandas()와 .to_numpy()를 사용합니다. 편리하게도 .to_pandas()와 .to_numpy()은 Polars DataFrame 객체의 메서드입니다. Polars의 창시자들은 많은 사용자가 Polars 코드를 기존의 pandas 및 NumPy 코드와 통합하길 원할 것으로 예상하여 Polars와 pandas 또는 NumPy 간의 변환을 DataFrame 객체의 기본 작업으로 만들었습니다.\n",
    "\n",
    "Python 커뮤니티에서 널리 사용되는 라이브러리인 pandas와 NumPy는 한동안 여전히 사용될 것입니다. Polars가 이러한 라이브러리와 통합될 수 있는 능력은 기존 워크플로우의 성능을 향상시키는 방법으로 소개할 수 있음을 의미합니다. 예를 들어, 머신 러닝 모델을 위한 고성능 데이터 전처리를 수행하고 결과를 모델에 공급하기 전에 NumPy 배열로 변환할 수 있습니다."
   ]
  },
  {
   "cell_type": "code",
   "execution_count": 18,
   "metadata": {},
   "outputs": [],
   "source": [
    "df.write_csv(\"../output/output.csv\")\n",
    "# df_csv = pl.read_csv(\"../output/output.csv\")\n",
    "# df_csv"
   ]
  },
  {
   "cell_type": "markdown",
   "metadata": {},
   "source": [
    "# 다음 단계\n",
    "Polars는 Python 커뮤니티에서 빠르게 주목을 받고 있는 라이브러리로, 이 튜토리얼에서는 그 일부만 다뤘습니다. Polars를 사용하여 데이터 처리 응용 프로그램을 개선할 수 있는 다양한 기능이 있으며, 이를 학습할 수 있습니다.\n",
    "\n",
    "이 튜토리얼에서 다루지 않은 주요 기능 중 일부로는 조인, 멜트, 피벗, 시계열 처리, 클라우드 컴퓨팅 플랫폼과의 통합 등이 있습니다. 이러한 기능에 대한 정보는 Polars의 사용자 가이드나 API 참조에서 찾을 수 있습니다."
   ]
  },
  {
   "cell_type": "markdown",
   "metadata": {},
   "source": [
    "# 결론\n",
    "Polars는 빠르고 빠르게 성장하는 DataFrame 라이브러리입니다. Polars의 최적화된 백엔드, 익숙하면서도 효율적인 구문, Lazy API 및 Python 생태계와의 통합은 이 라이브러리를 다른 라이브러리들과 구별되게 만듭니다. 이제 Polars를 사용하여 자신의 프로젝트를 시작할 수 있는 지식과 자원을 갖추었습니다.\n",
    "\n",
    "이 튜토리얼에서 다음을 배웠습니다:\n",
    "\n",
    "- Polars가 성능을 어떻게 확보하고 있는지 및 라이브러리가 트렌드인 이유\n",
    "- 데이터를 조작하는 데 사용하는 DataFrame, 표현식 및 컨텍스트\n",
    "- Lazy API가 무엇이며 어떻게 사용하는지\n",
    "- Polars를 외부 데이터 소스 및 다른 인기 있는 Python 라이브러리와 통합하는 방법\n",
    "이러한 다양한 기능을 갖춘 Polars는 의심할 여지없이 Python의 데이터 분석 및 조작 생태계에 중요한 추가입니다. 대용량 데이터셋을 다루거나 성능을 최적화하거나 효율적인 쿼리가 필요한 경우 Polars는 데이터 처리 작업에 매력적인 선택지입니다. Polars가 다음 데이터 프로젝트에 어떻게 도움이 될 수 있을까요?"
   ]
  },
  {
   "cell_type": "markdown",
   "metadata": {},
   "source": [
    "# Expressions\n",
    "Expressions are the core strength of Polars. The expressions offer a modular structure that allows you to combine simple concepts into complex queries. Below we cover the basic components that serve as building block (or in Polars terminology contexts) for all your queries:\n",
    "\n",
    "- select\n",
    "- filter\n",
    "- with_columns\n",
    "- group_by"
   ]
  },
  {
   "cell_type": "code",
   "execution_count": 19,
   "metadata": {},
   "outputs": [
    {
     "data": {
      "text/html": [
       "<div><style>\n",
       ".dataframe > thead > tr,\n",
       ".dataframe > tbody > tr {\n",
       "  text-align: right;\n",
       "  white-space: pre-wrap;\n",
       "}\n",
       "</style>\n",
       "<small>shape: (2_638, 5)</small><table border=\"1\" class=\"dataframe\"><thead><tr><th>cell_barcode</th><th>n_genes</th><th>percent_mito</th><th>n_counts</th><th>cell_type</th></tr><tr><td>str</td><td>i64</td><td>f64</td><td>f64</td><td>str</td></tr></thead><tbody><tr><td>&quot;AAACATACAACCAC…</td><td>781</td><td>0.030178</td><td>2419.0</td><td>&quot;CD4T&quot;</td></tr><tr><td>&quot;AAACATTGAGCTAC…</td><td>1352</td><td>0.037936</td><td>4903.0</td><td>&quot;B cell&quot;</td></tr><tr><td>&quot;AAACATTGATCAGC…</td><td>1131</td><td>0.008897</td><td>3147.0</td><td>&quot;CD4T&quot;</td></tr><tr><td>&quot;AAACCGTGCTTCCG…</td><td>960</td><td>0.017431</td><td>2639.0</td><td>&quot;CD14+ Mono&quot;</td></tr><tr><td>&quot;AAACCGTGTATGCG…</td><td>522</td><td>0.012245</td><td>980.0</td><td>&quot;NK&quot;</td></tr><tr><td>&hellip;</td><td>&hellip;</td><td>&hellip;</td><td>&hellip;</td><td>&hellip;</td></tr><tr><td>&quot;TTTCGAACTCTCAT…</td><td>1155</td><td>0.021104</td><td>3459.0</td><td>&quot;CD14+ Mono&quot;</td></tr><tr><td>&quot;TTTCTACTGAGGCA…</td><td>1227</td><td>0.009294</td><td>3443.0</td><td>&quot;B cell&quot;</td></tr><tr><td>&quot;TTTCTACTTCCTCG…</td><td>622</td><td>0.021971</td><td>1684.0</td><td>&quot;B cell&quot;</td></tr><tr><td>&quot;TTTGCATGAGAGGC…</td><td>454</td><td>0.020548</td><td>1022.0</td><td>&quot;B cell&quot;</td></tr><tr><td>&quot;TTTGCATGCCTCAC…</td><td>724</td><td>0.008065</td><td>1984.0</td><td>&quot;CD4T&quot;</td></tr></tbody></table></div>"
      ],
      "text/plain": [
       "shape: (2_638, 5)\n",
       "┌──────────────────┬─────────┬──────────────┬──────────┬────────────┐\n",
       "│ cell_barcode     ┆ n_genes ┆ percent_mito ┆ n_counts ┆ cell_type  │\n",
       "│ ---              ┆ ---     ┆ ---          ┆ ---      ┆ ---        │\n",
       "│ str              ┆ i64     ┆ f64          ┆ f64      ┆ str        │\n",
       "╞══════════════════╪═════════╪══════════════╪══════════╪════════════╡\n",
       "│ AAACATACAACCAC-1 ┆ 781     ┆ 0.030178     ┆ 2419.0   ┆ CD4T       │\n",
       "│ AAACATTGAGCTAC-1 ┆ 1352    ┆ 0.037936     ┆ 4903.0   ┆ B cell     │\n",
       "│ AAACATTGATCAGC-1 ┆ 1131    ┆ 0.008897     ┆ 3147.0   ┆ CD4T       │\n",
       "│ AAACCGTGCTTCCG-1 ┆ 960     ┆ 0.017431     ┆ 2639.0   ┆ CD14+ Mono │\n",
       "│ AAACCGTGTATGCG-1 ┆ 522     ┆ 0.012245     ┆ 980.0    ┆ NK         │\n",
       "│ …                ┆ …       ┆ …            ┆ …        ┆ …          │\n",
       "│ TTTCGAACTCTCAT-1 ┆ 1155    ┆ 0.021104     ┆ 3459.0   ┆ CD14+ Mono │\n",
       "│ TTTCTACTGAGGCA-1 ┆ 1227    ┆ 0.009294     ┆ 3443.0   ┆ B cell     │\n",
       "│ TTTCTACTTCCTCG-1 ┆ 622     ┆ 0.021971     ┆ 1684.0   ┆ B cell     │\n",
       "│ TTTGCATGAGAGGC-1 ┆ 454     ┆ 0.020548     ┆ 1022.0   ┆ B cell     │\n",
       "│ TTTGCATGCCTCAC-1 ┆ 724     ┆ 0.008065     ┆ 1984.0   ┆ CD4T       │\n",
       "└──────────────────┴─────────┴──────────────┴──────────┴────────────┘"
      ]
     },
     "execution_count": 19,
     "metadata": {},
     "output_type": "execute_result"
    }
   ],
   "source": [
    "df.select(pl.col(\"*\"))"
   ]
  },
  {
   "cell_type": "code",
   "execution_count": 20,
   "metadata": {},
   "outputs": [
    {
     "ename": "ColumnNotFoundError",
     "evalue": "date\n\nError originated just after this operation:\nDF [\"cell_barcode\", \"n_genes\", \"percent_mito\", \"n_counts\"]; PROJECT */5 COLUMNS; SELECTION: \"None\"",
     "output_type": "error",
     "traceback": [
      "\u001b[0;31m---------------------------------------------------------------------------\u001b[0m",
      "\u001b[0;31mColumnNotFoundError\u001b[0m                       Traceback (most recent call last)",
      "Cell \u001b[0;32mIn[20], line 1\u001b[0m\n\u001b[0;32m----> 1\u001b[0m \u001b[43mdf\u001b[49m\u001b[38;5;241;43m.\u001b[39;49m\u001b[43mselect\u001b[49m\u001b[43m(\u001b[49m\u001b[43mpl\u001b[49m\u001b[38;5;241;43m.\u001b[39;49m\u001b[43mcol\u001b[49m\u001b[43m(\u001b[49m\u001b[38;5;124;43m\"\u001b[39;49m\u001b[38;5;124;43mdate\u001b[39;49m\u001b[38;5;124;43m\"\u001b[39;49m\u001b[43m)\u001b[49m\u001b[43m)\u001b[49m\n",
      "File \u001b[0;32m~/Downloads/dataScience/notebook/.pixi/envs/default/lib/python3.12/site-packages/polars/dataframe/frame.py:8193\u001b[0m, in \u001b[0;36mDataFrame.select\u001b[0;34m(self, *exprs, **named_exprs)\u001b[0m\n\u001b[1;32m   8093\u001b[0m \u001b[38;5;28;01mdef\u001b[39;00m \u001b[38;5;21mselect\u001b[39m(\n\u001b[1;32m   8094\u001b[0m     \u001b[38;5;28mself\u001b[39m, \u001b[38;5;241m*\u001b[39mexprs: IntoExpr \u001b[38;5;241m|\u001b[39m Iterable[IntoExpr], \u001b[38;5;241m*\u001b[39m\u001b[38;5;241m*\u001b[39mnamed_exprs: IntoExpr\n\u001b[1;32m   8095\u001b[0m ) \u001b[38;5;241m-\u001b[39m\u001b[38;5;241m>\u001b[39m DataFrame:\n\u001b[1;32m   8096\u001b[0m \u001b[38;5;250m    \u001b[39m\u001b[38;5;124;03m\"\"\"\u001b[39;00m\n\u001b[1;32m   8097\u001b[0m \u001b[38;5;124;03m    Select columns from this DataFrame.\u001b[39;00m\n\u001b[1;32m   8098\u001b[0m \n\u001b[0;32m   (...)\u001b[0m\n\u001b[1;32m   8191\u001b[0m \u001b[38;5;124;03m    └───────────┘\u001b[39;00m\n\u001b[1;32m   8192\u001b[0m \u001b[38;5;124;03m    \"\"\"\u001b[39;00m\n\u001b[0;32m-> 8193\u001b[0m     \u001b[38;5;28;01mreturn\u001b[39;00m \u001b[38;5;28;43mself\u001b[39;49m\u001b[38;5;241;43m.\u001b[39;49m\u001b[43mlazy\u001b[49m\u001b[43m(\u001b[49m\u001b[43m)\u001b[49m\u001b[38;5;241;43m.\u001b[39;49m\u001b[43mselect\u001b[49m\u001b[43m(\u001b[49m\u001b[38;5;241;43m*\u001b[39;49m\u001b[43mexprs\u001b[49m\u001b[43m,\u001b[49m\u001b[43m \u001b[49m\u001b[38;5;241;43m*\u001b[39;49m\u001b[38;5;241;43m*\u001b[39;49m\u001b[43mnamed_exprs\u001b[49m\u001b[43m)\u001b[49m\u001b[38;5;241;43m.\u001b[39;49m\u001b[43mcollect\u001b[49m\u001b[43m(\u001b[49m\u001b[43m_eager\u001b[49m\u001b[38;5;241;43m=\u001b[39;49m\u001b[38;5;28;43;01mTrue\u001b[39;49;00m\u001b[43m)\u001b[49m\n",
      "File \u001b[0;32m~/Downloads/dataScience/notebook/.pixi/envs/default/lib/python3.12/site-packages/polars/lazyframe/frame.py:1943\u001b[0m, in \u001b[0;36mLazyFrame.collect\u001b[0;34m(self, type_coercion, predicate_pushdown, projection_pushdown, simplify_expression, slice_pushdown, comm_subplan_elim, comm_subexpr_elim, no_optimization, streaming, background, _eager)\u001b[0m\n\u001b[1;32m   1940\u001b[0m \u001b[38;5;28;01mif\u001b[39;00m background:\n\u001b[1;32m   1941\u001b[0m     \u001b[38;5;28;01mreturn\u001b[39;00m InProcessQuery(ldf\u001b[38;5;241m.\u001b[39mcollect_concurrently())\n\u001b[0;32m-> 1943\u001b[0m \u001b[38;5;28;01mreturn\u001b[39;00m wrap_df(\u001b[43mldf\u001b[49m\u001b[38;5;241;43m.\u001b[39;49m\u001b[43mcollect\u001b[49m\u001b[43m(\u001b[49m\u001b[43m)\u001b[49m)\n",
      "\u001b[0;31mColumnNotFoundError\u001b[0m: date\n\nError originated just after this operation:\nDF [\"cell_barcode\", \"n_genes\", \"percent_mito\", \"n_counts\"]; PROJECT */5 COLUMNS; SELECTION: \"None\""
     ]
    }
   ],
   "source": [
    "df.select(pl.col(\"date\"))"
   ]
  },
  {
   "cell_type": "code",
   "execution_count": null,
   "metadata": {},
   "outputs": [
    {
     "data": {
      "text/html": [
       "<div><style>\n",
       ".dataframe > thead > tr,\n",
       ".dataframe > tbody > tr {\n",
       "  text-align: right;\n",
       "  white-space: pre-wrap;\n",
       "}\n",
       "</style>\n",
       "<small>shape: (3, 2)</small><table border=\"1\" class=\"dataframe\"><thead><tr><th>float</th><th>string</th></tr><tr><td>f64</td><td>str</td></tr></thead><tbody><tr><td>4.0</td><td>&quot;a&quot;</td></tr><tr><td>5.0</td><td>&quot;b&quot;</td></tr><tr><td>6.0</td><td>&quot;c&quot;</td></tr></tbody></table></div>"
      ],
      "text/plain": [
       "shape: (3, 2)\n",
       "┌───────┬────────┐\n",
       "│ float ┆ string │\n",
       "│ ---   ┆ ---    │\n",
       "│ f64   ┆ str    │\n",
       "╞═══════╪════════╡\n",
       "│ 4.0   ┆ a      │\n",
       "│ 5.0   ┆ b      │\n",
       "│ 6.0   ┆ c      │\n",
       "└───────┴────────┘"
      ]
     },
     "execution_count": 4,
     "metadata": {},
     "output_type": "execute_result"
    }
   ],
   "source": [
    "df.select(pl.col(\"float\", \"string\"))"
   ]
  },
  {
   "cell_type": "code",
   "execution_count": null,
   "metadata": {},
   "outputs": [
    {
     "data": {
      "text/html": [
       "<div><style>\n",
       ".dataframe > thead > tr,\n",
       ".dataframe > tbody > tr {\n",
       "  text-align: right;\n",
       "  white-space: pre-wrap;\n",
       "}\n",
       "</style>\n",
       "<small>shape: (0, 4)</small><table border=\"1\" class=\"dataframe\"><thead><tr><th>integer</th><th>date</th><th>float</th><th>string</th></tr><tr><td>i64</td><td>datetime[μs]</td><td>f64</td><td>str</td></tr></thead><tbody></tbody></table></div>"
      ],
      "text/plain": [
       "shape: (0, 4)\n",
       "┌─────────┬──────────────┬───────┬────────┐\n",
       "│ integer ┆ date         ┆ float ┆ string │\n",
       "│ ---     ┆ ---          ┆ ---   ┆ ---    │\n",
       "│ i64     ┆ datetime[μs] ┆ f64   ┆ str    │\n",
       "╞═════════╪══════════════╪═══════╪════════╡\n",
       "└─────────┴──────────────┴───────┴────────┘"
      ]
     },
     "execution_count": 5,
     "metadata": {},
     "output_type": "execute_result"
    }
   ],
   "source": [
    "df.filter(\n",
    "    pl.col(\"date\").is_between(datetime(2025, 12, 2), datetime(2025, 12, 3)),\n",
    ")"
   ]
  },
  {
   "cell_type": "markdown",
   "metadata": {},
   "source": [
    "- The Python Polars Library\n",
    "  - Getting to Know Polars\n",
    "  - Installing Python Polars\n",
    "- DataFrames, Expressions, and Contexts\n",
    "  - Getting Started With Polars DataFrames\n",
    "  - Polars Contexts and Expressions\n",
    "- The Lazy API\n",
    "  - Working With LazyFrames\n",
    "  - Scanning Data With LazyFrames\n",
    "- Seamless Integration\n",
    "  - Integration With External Data Sources\n",
    "  - Integration With the Python Ecosystem\n",
    "- Next Steps\n",
    "- Conclusion"
   ]
  },
  {
   "cell_type": "code",
   "execution_count": null,
   "metadata": {},
   "outputs": [
    {
     "data": {
      "text/html": [
       "<div><style>\n",
       ".dataframe > thead > tr,\n",
       ".dataframe > tbody > tr {\n",
       "  text-align: right;\n",
       "  white-space: pre-wrap;\n",
       "}\n",
       "</style>\n",
       "<small>shape: (768, 9)</small><table border=\"1\" class=\"dataframe\"><thead><tr><th>Pregnancies</th><th>Glucose</th><th>BloodPressure</th><th>SkinThickness</th><th>Insulin</th><th>BMI</th><th>DiabetesPedigreeFunction</th><th>Age</th><th>Outcome</th></tr><tr><td>i64</td><td>i64</td><td>i64</td><td>i64</td><td>i64</td><td>f64</td><td>f64</td><td>i64</td><td>i64</td></tr></thead><tbody><tr><td>6</td><td>148</td><td>72</td><td>35</td><td>0</td><td>33.6</td><td>0.627</td><td>50</td><td>1</td></tr><tr><td>1</td><td>85</td><td>66</td><td>29</td><td>0</td><td>26.6</td><td>0.351</td><td>31</td><td>0</td></tr><tr><td>8</td><td>183</td><td>64</td><td>0</td><td>0</td><td>23.3</td><td>0.672</td><td>32</td><td>1</td></tr><tr><td>1</td><td>89</td><td>66</td><td>23</td><td>94</td><td>28.1</td><td>0.167</td><td>21</td><td>0</td></tr><tr><td>0</td><td>137</td><td>40</td><td>35</td><td>168</td><td>43.1</td><td>2.288</td><td>33</td><td>1</td></tr><tr><td>&hellip;</td><td>&hellip;</td><td>&hellip;</td><td>&hellip;</td><td>&hellip;</td><td>&hellip;</td><td>&hellip;</td><td>&hellip;</td><td>&hellip;</td></tr><tr><td>10</td><td>101</td><td>76</td><td>48</td><td>180</td><td>32.9</td><td>0.171</td><td>63</td><td>0</td></tr><tr><td>2</td><td>122</td><td>70</td><td>27</td><td>0</td><td>36.8</td><td>0.34</td><td>27</td><td>0</td></tr><tr><td>5</td><td>121</td><td>72</td><td>23</td><td>112</td><td>26.2</td><td>0.245</td><td>30</td><td>0</td></tr><tr><td>1</td><td>126</td><td>60</td><td>0</td><td>0</td><td>30.1</td><td>0.349</td><td>47</td><td>1</td></tr><tr><td>1</td><td>93</td><td>70</td><td>31</td><td>0</td><td>30.4</td><td>0.315</td><td>23</td><td>0</td></tr></tbody></table></div>"
      ],
      "text/plain": [
       "shape: (768, 9)\n",
       "┌─────────────┬─────────┬───────────────┬───────────────┬───┬──────┬───────────────┬─────┬─────────┐\n",
       "│ Pregnancies ┆ Glucose ┆ BloodPressure ┆ SkinThickness ┆ … ┆ BMI  ┆ DiabetesPedig ┆ Age ┆ Outcome │\n",
       "│ ---         ┆ ---     ┆ ---           ┆ ---           ┆   ┆ ---  ┆ reeFunction   ┆ --- ┆ ---     │\n",
       "│ i64         ┆ i64     ┆ i64           ┆ i64           ┆   ┆ f64  ┆ ---           ┆ i64 ┆ i64     │\n",
       "│             ┆         ┆               ┆               ┆   ┆      ┆ f64           ┆     ┆         │\n",
       "╞═════════════╪═════════╪═══════════════╪═══════════════╪═══╪══════╪═══════════════╪═════╪═════════╡\n",
       "│ 6           ┆ 148     ┆ 72            ┆ 35            ┆ … ┆ 33.6 ┆ 0.627         ┆ 50  ┆ 1       │\n",
       "│ 1           ┆ 85      ┆ 66            ┆ 29            ┆ … ┆ 26.6 ┆ 0.351         ┆ 31  ┆ 0       │\n",
       "│ 8           ┆ 183     ┆ 64            ┆ 0             ┆ … ┆ 23.3 ┆ 0.672         ┆ 32  ┆ 1       │\n",
       "│ 1           ┆ 89      ┆ 66            ┆ 23            ┆ … ┆ 28.1 ┆ 0.167         ┆ 21  ┆ 0       │\n",
       "│ 0           ┆ 137     ┆ 40            ┆ 35            ┆ … ┆ 43.1 ┆ 2.288         ┆ 33  ┆ 1       │\n",
       "│ …           ┆ …       ┆ …             ┆ …             ┆ … ┆ …    ┆ …             ┆ …   ┆ …       │\n",
       "│ 10          ┆ 101     ┆ 76            ┆ 48            ┆ … ┆ 32.9 ┆ 0.171         ┆ 63  ┆ 0       │\n",
       "│ 2           ┆ 122     ┆ 70            ┆ 27            ┆ … ┆ 36.8 ┆ 0.34          ┆ 27  ┆ 0       │\n",
       "│ 5           ┆ 121     ┆ 72            ┆ 23            ┆ … ┆ 26.2 ┆ 0.245         ┆ 30  ┆ 0       │\n",
       "│ 1           ┆ 126     ┆ 60            ┆ 0             ┆ … ┆ 30.1 ┆ 0.349         ┆ 47  ┆ 1       │\n",
       "│ 1           ┆ 93      ┆ 70            ┆ 31            ┆ … ┆ 30.4 ┆ 0.315         ┆ 23  ┆ 0       │\n",
       "└─────────────┴─────────┴───────────────┴───────────────┴───┴──────┴───────────────┴─────┴─────────┘"
      ]
     },
     "execution_count": 6,
     "metadata": {},
     "output_type": "execute_result"
    }
   ],
   "source": [
    "df = pl.read_csv(\"../input/pima_diabetes.csv\")\n",
    "df"
   ]
  },
  {
   "cell_type": "code",
   "execution_count": null,
   "metadata": {},
   "outputs": [
    {
     "name": "stdout",
     "output_type": "stream",
     "text": [
      "shape: (768, 9)\n",
      "┌─────────────┬─────────┬───────────────┬───────────────┬───┬──────┬───────────────┬─────┬─────────┐\n",
      "│ Pregnancies ┆ Glucose ┆ BloodPressure ┆ SkinThickness ┆ … ┆ BMI  ┆ DiabetesPedig ┆ Age ┆ Outcome │\n",
      "│ ---         ┆ ---     ┆ ---           ┆ ---           ┆   ┆ ---  ┆ reeFunction   ┆ --- ┆ ---     │\n",
      "│ i64         ┆ i64     ┆ i64           ┆ i64           ┆   ┆ f64  ┆ ---           ┆ i64 ┆ i64     │\n",
      "│             ┆         ┆               ┆               ┆   ┆      ┆ f64           ┆     ┆         │\n",
      "╞═════════════╪═════════╪═══════════════╪═══════════════╪═══╪══════╪═══════════════╪═════╪═════════╡\n",
      "│ 6           ┆ 148     ┆ 72            ┆ 35            ┆ … ┆ 33.6 ┆ 0.627         ┆ 50  ┆ 1       │\n",
      "│ 1           ┆ 85      ┆ 66            ┆ 29            ┆ … ┆ 26.6 ┆ 0.351         ┆ 31  ┆ 0       │\n",
      "│ 8           ┆ 183     ┆ 64            ┆ 0             ┆ … ┆ 23.3 ┆ 0.672         ┆ 32  ┆ 1       │\n",
      "│ 1           ┆ 89      ┆ 66            ┆ 23            ┆ … ┆ 28.1 ┆ 0.167         ┆ 21  ┆ 0       │\n",
      "│ 0           ┆ 137     ┆ 40            ┆ 35            ┆ … ┆ 43.1 ┆ 2.288         ┆ 33  ┆ 1       │\n",
      "│ …           ┆ …       ┆ …             ┆ …             ┆ … ┆ …    ┆ …             ┆ …   ┆ …       │\n",
      "│ 10          ┆ 101     ┆ 76            ┆ 48            ┆ … ┆ 32.9 ┆ 0.171         ┆ 63  ┆ 0       │\n",
      "│ 2           ┆ 122     ┆ 70            ┆ 27            ┆ … ┆ 36.8 ┆ 0.34          ┆ 27  ┆ 0       │\n",
      "│ 5           ┆ 121     ┆ 72            ┆ 23            ┆ … ┆ 26.2 ┆ 0.245         ┆ 30  ┆ 0       │\n",
      "│ 1           ┆ 126     ┆ 60            ┆ 0             ┆ … ┆ 30.1 ┆ 0.349         ┆ 47  ┆ 1       │\n",
      "│ 1           ┆ 93      ┆ 70            ┆ 31            ┆ … ┆ 30.4 ┆ 0.315         ┆ 23  ┆ 0       │\n",
      "└─────────────┴─────────┴───────────────┴───────────────┴───┴──────┴───────────────┴─────┴─────────┘\n"
     ]
    }
   ],
   "source": [
    "print(df)"
   ]
  },
  {
   "cell_type": "code",
   "execution_count": null,
   "metadata": {},
   "outputs": [
    {
     "data": {
      "text/html": [
       "<div><style>\n",
       ".dataframe > thead > tr,\n",
       ".dataframe > tbody > tr {\n",
       "  text-align: right;\n",
       "  white-space: pre-wrap;\n",
       "}\n",
       "</style>\n",
       "<small>shape: (768, 1)</small><table border=\"1\" class=\"dataframe\"><thead><tr><th>BMI</th></tr><tr><td>f64</td></tr></thead><tbody><tr><td>33.6</td></tr><tr><td>26.6</td></tr><tr><td>23.3</td></tr><tr><td>28.1</td></tr><tr><td>43.1</td></tr><tr><td>&hellip;</td></tr><tr><td>32.9</td></tr><tr><td>36.8</td></tr><tr><td>26.2</td></tr><tr><td>30.1</td></tr><tr><td>30.4</td></tr></tbody></table></div>"
      ],
      "text/plain": [
       "shape: (768, 1)\n",
       "┌──────┐\n",
       "│ BMI  │\n",
       "│ ---  │\n",
       "│ f64  │\n",
       "╞══════╡\n",
       "│ 33.6 │\n",
       "│ 26.6 │\n",
       "│ 23.3 │\n",
       "│ 28.1 │\n",
       "│ 43.1 │\n",
       "│ …    │\n",
       "│ 32.9 │\n",
       "│ 36.8 │\n",
       "│ 26.2 │\n",
       "│ 30.1 │\n",
       "│ 30.4 │\n",
       "└──────┘"
      ]
     },
     "execution_count": 5,
     "metadata": {},
     "output_type": "execute_result"
    }
   ],
   "source": [
    "df.select(pl.col(\"BMI\"))"
   ]
  },
  {
   "cell_type": "code",
   "execution_count": null,
   "metadata": {},
   "outputs": [
    {
     "data": {
      "text/html": [
       "<div><style>\n",
       ".dataframe > thead > tr,\n",
       ".dataframe > tbody > tr {\n",
       "  text-align: right;\n",
       "  white-space: pre-wrap;\n",
       "}\n",
       "</style>\n",
       "<small>shape: (768, 1)</small><table border=\"1\" class=\"dataframe\"><thead><tr><th>BMI</th></tr><tr><td>f64</td></tr></thead><tbody><tr><td>0.0</td></tr><tr><td>0.0</td></tr><tr><td>0.0</td></tr><tr><td>0.0</td></tr><tr><td>0.0</td></tr><tr><td>&hellip;</td></tr><tr><td>5.32</td></tr><tr><td>5.5</td></tr><tr><td>5.73</td></tr><tr><td>5.94</td></tr><tr><td>6.71</td></tr></tbody></table></div>"
      ],
      "text/plain": [
       "shape: (768, 1)\n",
       "┌──────┐\n",
       "│ BMI  │\n",
       "│ ---  │\n",
       "│ f64  │\n",
       "╞══════╡\n",
       "│ 0.0  │\n",
       "│ 0.0  │\n",
       "│ 0.0  │\n",
       "│ 0.0  │\n",
       "│ 0.0  │\n",
       "│ …    │\n",
       "│ 5.32 │\n",
       "│ 5.5  │\n",
       "│ 5.73 │\n",
       "│ 5.94 │\n",
       "│ 6.71 │\n",
       "└──────┘"
      ]
     },
     "execution_count": 7,
     "metadata": {},
     "output_type": "execute_result"
    }
   ],
   "source": [
    "df.select(pl.col(\"BMI\").sort() / 10)"
   ]
  },
  {
   "cell_type": "code",
   "execution_count": null,
   "metadata": {},
   "outputs": [
    {
     "data": {
      "text/plain": [
       "(757, 9)"
      ]
     },
     "execution_count": 14,
     "metadata": {},
     "output_type": "execute_result"
    }
   ],
   "source": [
    "bmi_above_5 = df.filter(pl.col(\"BMI\") > 5)\n",
    "bmi_above_5.shape"
   ]
  },
  {
   "cell_type": "code",
   "execution_count": null,
   "metadata": {},
   "outputs": [
    {
     "data": {
      "text/html": [
       "<div><style>\n",
       ".dataframe > thead > tr,\n",
       ".dataframe > tbody > tr {\n",
       "  text-align: right;\n",
       "  white-space: pre-wrap;\n",
       "}\n",
       "</style>\n",
       "<small>shape: (1, 1)</small><table border=\"1\" class=\"dataframe\"><thead><tr><th>BMI</th></tr><tr><td>f64</td></tr></thead><tbody><tr><td>18.2</td></tr></tbody></table></div>"
      ],
      "text/plain": [
       "shape: (1, 1)\n",
       "┌──────┐\n",
       "│ BMI  │\n",
       "│ ---  │\n",
       "│ f64  │\n",
       "╞══════╡\n",
       "│ 18.2 │\n",
       "└──────┘"
      ]
     },
     "execution_count": 16,
     "metadata": {},
     "output_type": "execute_result"
    }
   ],
   "source": [
    "bmi_above_5.select(pl.col(\"BMI\").min())"
   ]
  },
  {
   "cell_type": "code",
   "execution_count": null,
   "metadata": {},
   "outputs": [
    {
     "data": {
      "text/html": [
       "<div><style>\n",
       ".dataframe > thead > tr,\n",
       ".dataframe > tbody > tr {\n",
       "  text-align: right;\n",
       "  white-space: pre-wrap;\n",
       "}\n",
       "</style>\n",
       "<small>shape: (2, 7)</small><table border=\"1\" class=\"dataframe\"><thead><tr><th>Outcome</th><th>mean_BMI</th><th>median_BMI</th><th>mean_age</th><th>mean_glucose</th><th>mean_bloodpressue</th><th>len</th></tr><tr><td>i64</td><td>f64</td><td>f64</td><td>f64</td><td>f64</td><td>f64</td><td>u32</td></tr></thead><tbody><tr><td>0</td><td>30.3042</td><td>30.05</td><td>31.19</td><td>109.98</td><td>68.184</td><td>500</td></tr><tr><td>1</td><td>35.142537</td><td>34.25</td><td>37.067164</td><td>141.257463</td><td>70.824627</td><td>268</td></tr></tbody></table></div>"
      ],
      "text/plain": [
       "shape: (2, 7)\n",
       "┌─────────┬───────────┬────────────┬───────────┬──────────────┬───────────────────┬─────┐\n",
       "│ Outcome ┆ mean_BMI  ┆ median_BMI ┆ mean_age  ┆ mean_glucose ┆ mean_bloodpressue ┆ len │\n",
       "│ ---     ┆ ---       ┆ ---        ┆ ---       ┆ ---          ┆ ---               ┆ --- │\n",
       "│ i64     ┆ f64       ┆ f64        ┆ f64       ┆ f64          ┆ f64               ┆ u32 │\n",
       "╞═════════╪═══════════╪════════════╪═══════════╪══════════════╪═══════════════════╪═════╡\n",
       "│ 0       ┆ 30.3042   ┆ 30.05      ┆ 31.19     ┆ 109.98       ┆ 68.184            ┆ 500 │\n",
       "│ 1       ┆ 35.142537 ┆ 34.25      ┆ 37.067164 ┆ 141.257463   ┆ 70.824627         ┆ 268 │\n",
       "└─────────┴───────────┴────────────┴───────────┴──────────────┴───────────────────┴─────┘"
      ]
     },
     "execution_count": 9,
     "metadata": {},
     "output_type": "execute_result"
    }
   ],
   "source": [
    "df.group_by(\"Outcome\").agg(\n",
    "    [\n",
    "        pl.mean(\"BMI\").alias(\"mean_BMI\"),\n",
    "        pl.median(\"BMI\").alias(\"median_BMI\"),\n",
    "        pl.mean(\"Age\").alias(\"mean_age\"),\n",
    "        pl.mean(\"Glucose\").alias(\"mean_glucose\"),\n",
    "        pl.mean(\"BloodPressure\").alias(\"mean_bloodpressue\"),\n",
    "        pl.len(),\n",
    "    ]\n",
    ")"
   ]
  },
  {
   "cell_type": "markdown",
   "metadata": {},
   "source": [
    "- https://realpython.com/polars-python/#the-python-polars-library"
   ]
  },
  {
   "cell_type": "code",
   "execution_count": null,
   "metadata": {},
   "outputs": [
    {
     "data": {
      "text/html": [
       "<i>naive plan: (run <b>LazyFrame.explain(optimized=True)</b> to see the optimized plan)</i>\n",
       "    <p></p>\n",
       "    <div>DF [\"sqft\", \"price\", \"year\", \"building_type\"]; PROJECT */4 COLUMNS; SELECTION: \"None\"</div>"
      ],
      "text/plain": [
       "<LazyFrame [4 cols, {\"sqft\": Float64 … \"building_type\": String}] at 0x118B6DE50>"
      ]
     },
     "execution_count": 10,
     "metadata": {},
     "output_type": "execute_result"
    }
   ],
   "source": [
    "import numpy as np\n",
    "import polars as pl\n",
    "\n",
    "num_rows = 5000\n",
    "rng = np.random.default_rng(seed=7)\n",
    "\n",
    "buildings = {\n",
    "    \"sqft\": rng.exponential(scale=1000, size=num_rows),\n",
    "    \"price\": rng.exponential(scale=100_000, size=num_rows),\n",
    "    \"year\": rng.integers(low=1995, high=2023, size=num_rows),\n",
    "    \"building_type\": rng.choice([\"A\", \"B\", \"C\"], size=num_rows),\n",
    "}\n",
    "buildings_lazy = pl.LazyFrame(buildings)\n",
    "buildings_lazy"
   ]
  },
  {
   "cell_type": "code",
   "execution_count": null,
   "metadata": {},
   "outputs": [
    {
     "data": {
      "text/html": [
       "<i>naive plan: (run <b>LazyFrame.explain(optimized=True)</b> to see the optimized plan)</i>\n",
       "    <p></p>\n",
       "    <div>FILTER [(col(\"year\")) < (2010)] FROM<p></p>FILTER [(col(\"price_per_sqft\")) > (100)] FROM<p></p> WITH_COLUMNS:<p></p> [[(col(\"price\")) / (col(\"sqft\"))].alias(\"price_per_sqft\")]<p></p>  DF [\"sqft\", \"price\", \"year\", \"building_type\"]; PROJECT */4 COLUMNS; SELECTION: \"None\"</div>"
      ],
      "text/plain": [
       "<LazyFrame [5 cols, {\"sqft\": Float64 … \"price_per_sqft\": Float64}] at 0x118989F10>"
      ]
     },
     "execution_count": 11,
     "metadata": {},
     "output_type": "execute_result"
    }
   ],
   "source": [
    "lazy_query = (\n",
    "    buildings_lazy.with_columns((pl.col(\"price\") / pl.col(\"sqft\")).alias(\"price_per_sqft\"))\n",
    "    .filter(pl.col(\"price_per_sqft\") > 100)\n",
    "    .filter(pl.col(\"year\") < 2010)\n",
    ")\n",
    "lazy_query"
   ]
  },
  {
   "cell_type": "code",
   "execution_count": null,
   "metadata": {},
   "outputs": [
    {
     "data": {
      "text/html": [
       "<div><style>\n",
       ".dataframe > thead > tr,\n",
       ".dataframe > tbody > tr {\n",
       "  text-align: right;\n",
       "  white-space: pre-wrap;\n",
       "}\n",
       "</style>\n",
       "<small>shape: (9, 3)</small><table border=\"1\" class=\"dataframe\"><thead><tr><th>statistic</th><th>price_per_sqft</th><th>year</th></tr><tr><td>str</td><td>f64</td><td>f64</td></tr></thead><tbody><tr><td>&quot;count&quot;</td><td>1317.0</td><td>1317.0</td></tr><tr><td>&quot;null_count&quot;</td><td>0.0</td><td>0.0</td></tr><tr><td>&quot;mean&quot;</td><td>1400.622815</td><td>2002.003037</td></tr><tr><td>&quot;std&quot;</td><td>5755.888716</td><td>4.324595</td></tr><tr><td>&quot;min&quot;</td><td>100.02061</td><td>1995.0</td></tr><tr><td>&quot;25%&quot;</td><td>166.351274</td><td>1998.0</td></tr><tr><td>&quot;50%&quot;</td><td>296.71958</td><td>2002.0</td></tr><tr><td>&quot;75%&quot;</td><td>744.552161</td><td>2006.0</td></tr><tr><td>&quot;max&quot;</td><td>90314.966163</td><td>2009.0</td></tr></tbody></table></div>"
      ],
      "text/plain": [
       "shape: (9, 3)\n",
       "┌────────────┬────────────────┬─────────────┐\n",
       "│ statistic  ┆ price_per_sqft ┆ year        │\n",
       "│ ---        ┆ ---            ┆ ---         │\n",
       "│ str        ┆ f64            ┆ f64         │\n",
       "╞════════════╪════════════════╪═════════════╡\n",
       "│ count      ┆ 1317.0         ┆ 1317.0      │\n",
       "│ null_count ┆ 0.0            ┆ 0.0         │\n",
       "│ mean       ┆ 1400.622815    ┆ 2002.003037 │\n",
       "│ std        ┆ 5755.888716    ┆ 4.324595    │\n",
       "│ min        ┆ 100.02061      ┆ 1995.0      │\n",
       "│ 25%        ┆ 166.351274     ┆ 1998.0      │\n",
       "│ 50%        ┆ 296.71958      ┆ 2002.0      │\n",
       "│ 75%        ┆ 744.552161     ┆ 2006.0      │\n",
       "│ max        ┆ 90314.966163   ┆ 2009.0      │\n",
       "└────────────┴────────────────┴─────────────┘"
      ]
     },
     "execution_count": 13,
     "metadata": {},
     "output_type": "execute_result"
    }
   ],
   "source": [
    "(lazy_query.collect().select(pl.col([\"price_per_sqft\", \"year\"])).describe())"
   ]
  },
  {
   "cell_type": "markdown",
   "metadata": {},
   "source": [
    "# tutorials"
   ]
  },
  {
   "cell_type": "code",
   "execution_count": null,
   "metadata": {},
   "outputs": [
    {
     "name": "stdout",
     "output_type": "stream",
     "text": [
      "shape: (5, 4)\n",
      "┌──────┬───────┬──────────┬────────┐\n",
      "│ nrs  ┆ names ┆ random   ┆ groups │\n",
      "│ ---  ┆ ---   ┆ ---      ┆ ---    │\n",
      "│ i64  ┆ str   ┆ f64      ┆ str    │\n",
      "╞══════╪═══════╪══════════╪════════╡\n",
      "│ 1    ┆ foo   ┆ 0.779456 ┆ A      │\n",
      "│ 2    ┆ ham   ┆ 0.066492 ┆ A      │\n",
      "│ 3    ┆ spam  ┆ 0.554846 ┆ B      │\n",
      "│ null ┆ egg   ┆ 0.021776 ┆ C      │\n",
      "│ 5    ┆ null  ┆ 0.674241 ┆ B      │\n",
      "└──────┴───────┴──────────┴────────┘\n"
     ]
    }
   ],
   "source": [
    "df = pl.DataFrame(\n",
    "    {\n",
    "        \"nrs\": [1, 2, 3, None, 5],\n",
    "        \"names\": [\"foo\", \"ham\", \"spam\", \"egg\", None],\n",
    "        \"random\": np.random.rand(5),\n",
    "        \"groups\": [\"A\", \"A\", \"B\", \"C\", \"B\"],\n",
    "    }\n",
    ")\n",
    "print(df)"
   ]
  },
  {
   "cell_type": "code",
   "execution_count": null,
   "metadata": {},
   "outputs": [
    {
     "name": "stdout",
     "output_type": "stream",
     "text": [
      "shape: (5, 4)\n",
      "┌─────────┬─────────┬──────────────┬──────────────┐\n",
      "│ nrs + 5 ┆ nrs - 5 ┆ nrs * random ┆ nrs / random │\n",
      "│ ---     ┆ ---     ┆ ---          ┆ ---          │\n",
      "│ i64     ┆ i64     ┆ f64          ┆ f64          │\n",
      "╞═════════╪═════════╪══════════════╪══════════════╡\n",
      "│ 6       ┆ -4      ┆ 0.779456     ┆ 1.282945     │\n",
      "│ 7       ┆ -3      ┆ 0.132983     ┆ 30.078969    │\n",
      "│ 8       ┆ -2      ┆ 1.664538     ┆ 5.406906     │\n",
      "│ null    ┆ null    ┆ null         ┆ null         │\n",
      "│ 10      ┆ 0       ┆ 3.371205     ┆ 7.415746     │\n",
      "└─────────┴─────────┴──────────────┴──────────────┘\n"
     ]
    }
   ],
   "source": [
    "df_numerical = df.select(\n",
    "    (pl.col(\"nrs\") + 5).alias(\"nrs + 5\"),\n",
    "    (pl.col(\"nrs\") - 5).alias(\"nrs - 5\"),\n",
    "    (pl.col(\"nrs\") * pl.col(\"random\")).alias(\"nrs * random\"),\n",
    "    (pl.col(\"nrs\") / pl.col(\"random\")).alias(\"nrs / random\"),\n",
    ")\n",
    "print(df_numerical)"
   ]
  },
  {
   "cell_type": "code",
   "execution_count": null,
   "metadata": {},
   "outputs": [
    {
     "name": "stdout",
     "output_type": "stream",
     "text": [
      "shape: (5, 6)\n",
      "┌─────────┬──────────────┬──────────┬──────────┬──────────┬─────────┐\n",
      "│ nrs > 1 ┆ random <= .5 ┆ nrs != 1 ┆ nrs == 1 ┆ and_expr ┆ or_expr │\n",
      "│ ---     ┆ ---          ┆ ---      ┆ ---      ┆ ---      ┆ ---     │\n",
      "│ bool    ┆ bool         ┆ bool     ┆ bool     ┆ bool     ┆ bool    │\n",
      "╞═════════╪══════════════╪══════════╪══════════╪══════════╪═════════╡\n",
      "│ false   ┆ false        ┆ false    ┆ true     ┆ false    ┆ false   │\n",
      "│ true    ┆ true         ┆ true     ┆ false    ┆ true     ┆ true    │\n",
      "│ true    ┆ false        ┆ true     ┆ false    ┆ false    ┆ true    │\n",
      "│ null    ┆ true         ┆ null     ┆ null     ┆ null     ┆ true    │\n",
      "│ true    ┆ false        ┆ true     ┆ false    ┆ false    ┆ true    │\n",
      "└─────────┴──────────────┴──────────┴──────────┴──────────┴─────────┘\n"
     ]
    }
   ],
   "source": [
    "df_logical = df.select(\n",
    "    (pl.col(\"nrs\") > 1).alias(\"nrs > 1\"),\n",
    "    (pl.col(\"random\") <= 0.5).alias(\"random <= .5\"),\n",
    "    (pl.col(\"nrs\") != 1).alias(\"nrs != 1\"),\n",
    "    (pl.col(\"nrs\") == 1).alias(\"nrs == 1\"),\n",
    "    ((pl.col(\"random\") <= 0.5) & (pl.col(\"nrs\") > 1)).alias(\"and_expr\"),  # and\n",
    "    ((pl.col(\"random\") <= 0.5) | (pl.col(\"nrs\") > 1)).alias(\"or_expr\"),  # or\n",
    ")\n",
    "print(df_logical)"
   ]
  },
  {
   "cell_type": "code",
   "execution_count": null,
   "metadata": {},
   "outputs": [
    {
     "name": "stdout",
     "output_type": "stream",
     "text": [
      "shape: (3, 7)\n",
      "┌───────┬─────┬────────┬────────────┬───────────┬────────────┬─────────────────────┐\n",
      "│ index ┆ id  ┆ place  ┆ date       ┆ sales     ┆ has_people ┆ logged_at           │\n",
      "│ ---   ┆ --- ┆ ---    ┆ ---        ┆ ---       ┆ ---        ┆ ---                 │\n",
      "│ u32   ┆ i64 ┆ str    ┆ date       ┆ f64       ┆ bool       ┆ datetime[μs]        │\n",
      "╞═══════╪═════╪════════╪════════════╪═══════════╪════════════╪═════════════════════╡\n",
      "│ 0     ┆ 9   ┆ Mars   ┆ 2022-01-01 ┆ 33.4      ┆ false      ┆ 2022-12-01 00:00:00 │\n",
      "│ 1     ┆ 4   ┆ Earth  ┆ 2022-01-02 ┆ 2142134.1 ┆ true       ┆ 2022-12-01 00:00:01 │\n",
      "│ 2     ┆ 2   ┆ Saturn ┆ 2022-01-03 ┆ 44.7      ┆ false      ┆ 2022-12-01 00:00:02 │\n",
      "└───────┴─────┴────────┴────────────┴───────────┴────────────┴─────────────────────┘\n"
     ]
    }
   ],
   "source": [
    "from datetime import date, datetime\n",
    "\n",
    "import polars as pl\n",
    "\n",
    "df = pl.DataFrame(\n",
    "    {\n",
    "        \"id\": [9, 4, 2],\n",
    "        \"place\": [\"Mars\", \"Earth\", \"Saturn\"],\n",
    "        \"date\": pl.date_range(date(2022, 1, 1), date(2022, 1, 3), \"1d\", eager=True),\n",
    "        \"sales\": [33.4, 2142134.1, 44.7],\n",
    "        \"has_people\": [False, True, False],\n",
    "        \"logged_at\": pl.datetime_range(\n",
    "            datetime(2022, 12, 1), datetime(2022, 12, 1, 0, 0, 2), \"1s\", eager=True\n",
    "        ),\n",
    "    }\n",
    ").with_row_index(\"index\")\n",
    "print(df)"
   ]
  },
  {
   "cell_type": "code",
   "execution_count": null,
   "metadata": {},
   "outputs": [
    {
     "name": "stdout",
     "output_type": "stream",
     "text": [
      "shape: (3, 5)\n",
      "┌─────┬────────┬────────────┬───────────┬────────────┐\n",
      "│ id  ┆ place  ┆ date       ┆ sales     ┆ has_people │\n",
      "│ --- ┆ ---    ┆ ---        ┆ ---       ┆ ---        │\n",
      "│ i64 ┆ str    ┆ date       ┆ f64       ┆ bool       │\n",
      "╞═════╪════════╪════════════╪═══════════╪════════════╡\n",
      "│ 9   ┆ Mars   ┆ 2022-01-01 ┆ 33.4      ┆ false      │\n",
      "│ 4   ┆ Earth  ┆ 2022-01-02 ┆ 2142134.1 ┆ true       │\n",
      "│ 2   ┆ Saturn ┆ 2022-01-03 ┆ 44.7      ┆ false      │\n",
      "└─────┴────────┴────────────┴───────────┴────────────┘\n"
     ]
    }
   ],
   "source": [
    "out = df.select(pl.col(\"*\").exclude(\"logged_at\", \"index\"))\n",
    "print(out)"
   ]
  }
 ],
 "metadata": {
  "kernelspec": {
   "display_name": "Python 3",
   "language": "python",
   "name": "python3"
  },
  "language_info": {
   "codemirror_mode": {
    "name": "ipython",
    "version": 3
   },
   "file_extension": ".py",
   "mimetype": "text/x-python",
   "name": "python",
   "nbconvert_exporter": "python",
   "pygments_lexer": "ipython3",
   "version": "3.12.2"
  }
 },
 "nbformat": 4,
 "nbformat_minor": 2
}
